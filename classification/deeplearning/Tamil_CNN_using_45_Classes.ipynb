{
  "nbformat": 4,
  "nbformat_minor": 5,
  "metadata": {
    "accelerator": "GPU",
    "colab": {
      "name": "Tamil CNN using 45 Classes.ipynb",
      "provenance": [],
      "collapsed_sections": []
    },
    "kernelspec": {
      "display_name": "myenv",
      "language": "python",
      "name": "myenv"
    },
    "language_info": {
      "codemirror_mode": {
        "name": "ipython",
        "version": 3
      },
      "file_extension": ".py",
      "mimetype": "text/x-python",
      "name": "python",
      "nbconvert_exporter": "python",
      "pygments_lexer": "ipython3",
      "version": "3.9.5"
    }
  },
  "cells": [
    {
      "cell_type": "markdown",
      "metadata": {
        "id": "ab48b02d"
      },
      "source": [
        "# CNN\n",
        "B.R. Kavitha, C. Srimathi,\n",
        "\"Benchmarking on offline Handwritten Tamil Character Recognition using convolutional neural networks\",\n",
        "*Journal of King Saud University - Computer and Information Sciences*,\n",
        "2019, \n",
        "ISSN 1319-1578,\n",
        "[DOI: 10.1016/j.jksuci.2019.06.004.](https://doi.org/10.1016/j.jksuci.2019.06.004)\n"
      ],
      "id": "ab48b02d"
    },
    {
      "cell_type": "markdown",
      "metadata": {
        "id": "e33ad3e4"
      },
      "source": [
        "## Import Modules"
      ],
      "id": "e33ad3e4"
    },
    {
      "cell_type": "code",
      "metadata": {
        "id": "17c86268"
      },
      "source": [
        "import tensorflow as tf\n",
        "import numpy as np\n",
        "import matplotlib.pyplot as plt\n",
        "import os\n",
        "#from google.colab import drive\n",
        "import random\n",
        "import string\n",
        "import pickle\n",
        "\n",
        "from tensorflow import keras\n",
        "from tensorflow.keras import layers\n",
        "from tensorflow.keras.models import Sequential\n",
        "\n",
        "from sklearn.metrics import ConfusionMatrixDisplay, confusion_matrix, classification_report"
      ],
      "id": "17c86268",
      "execution_count": null,
      "outputs": []
    },
    {
      "cell_type": "code",
      "metadata": {
        "id": "TRH8J4BdZ2tq"
      },
      "source": [
        "drive.mount('/content/drive')"
      ],
      "id": "TRH8J4BdZ2tq",
      "execution_count": null,
      "outputs": []
    },
    {
      "cell_type": "markdown",
      "metadata": {
        "id": "5cc73f07"
      },
      "source": [
        "## Load the dataset"
      ],
      "id": "5cc73f07"
    },
    {
      "cell_type": "code",
      "metadata": {
        "id": "fbb162c8"
      },
      "source": [
        "base_dir = 'fourtyclasses'\n",
        "img_height = 64\n",
        "img_width = 64\n",
        "\n",
        "img_label = '53'\n",
        "file_name='1062_1.jpg'\n",
        "img_file = tf.io.read_file(os.path.join(base_dir,img_label,file_name))"
      ],
      "id": "fbb162c8",
      "execution_count": null,
      "outputs": []
    },
    {
      "cell_type": "code",
      "metadata": {
        "id": "e38b4901",
        "scrolled": true,
        "outputId": "a5a892ac-98e6-4234-a112-dfa6b16c9eef"
      },
      "source": [
        "# You can use tensorflow libraries instead\n",
        "file_list = []\n",
        "img_per_class = 2000\n",
        "for directory,sub_dir,file_names in os.walk(base_dir):\n",
        "    if sub_dir != []:\n",
        "        class_names = sub_dir\n",
        "        continue\n",
        "    i=0\n",
        "    for file in file_names:\n",
        "        if i<img_per_class and (file.endswith('.jpg') or file.endswith('.JPG')):\n",
        "            file_list.append(os.path.join(directory,file))\n",
        "            i+=1\n",
        "    if i!=0:\n",
        "        print(f\"{i} Images from : {directory}\")\n",
        "\n",
        "random.Random(45).shuffle(file_list)"
      ],
      "id": "e38b4901",
      "execution_count": null,
      "outputs": [
        {
          "output_type": "stream",
          "text": [
            "2000 Images from : fourtyclasses/47\n",
            "2000 Images from : fourtyclasses/30\n",
            "2000 Images from : fourtyclasses/46\n",
            "2000 Images from : fourtyclasses/29\n",
            "2000 Images from : fourtyclasses/45\n",
            "2000 Images from : fourtyclasses/64\n",
            "2000 Images from : fourtyclasses/26\n",
            "2000 Images from : fourtyclasses/60\n",
            "2000 Images from : fourtyclasses/56\n",
            "2000 Images from : fourtyclasses/43\n",
            "2000 Images from : fourtyclasses/40\n",
            "2000 Images from : fourtyclasses/31\n",
            "2000 Images from : fourtyclasses/49\n",
            "2000 Images from : fourtyclasses/55\n",
            "2000 Images from : fourtyclasses/38\n",
            "2000 Images from : fourtyclasses/39\n",
            "2000 Images from : fourtyclasses/33\n",
            "2000 Images from : fourtyclasses/1\n",
            "2000 Images from : fourtyclasses/70\n",
            "2000 Images from : fourtyclasses/35\n",
            "2000 Images from : fourtyclasses/37\n",
            "2000 Images from : fourtyclasses/53\n",
            "2000 Images from : fourtyclasses/27\n",
            "2000 Images from : fourtyclasses/52\n",
            "2000 Images from : fourtyclasses/24\n",
            "2000 Images from : fourtyclasses/61\n",
            "2000 Images from : fourtyclasses/36\n",
            "2000 Images from : fourtyclasses/62\n",
            "2000 Images from : fourtyclasses/54\n",
            "2000 Images from : fourtyclasses/50\n",
            "2000 Images from : fourtyclasses/42\n",
            "2000 Images from : fourtyclasses/57\n",
            "2000 Images from : fourtyclasses/63\n",
            "2000 Images from : fourtyclasses/32\n",
            "2000 Images from : fourtyclasses/41\n",
            "2000 Images from : fourtyclasses/28\n",
            "2000 Images from : fourtyclasses/48\n",
            "2000 Images from : fourtyclasses/23\n",
            "2000 Images from : fourtyclasses/25\n",
            "2000 Images from : fourtyclasses/51\n",
            "2000 Images from : fourtyclasses/58\n",
            "2000 Images from : fourtyclasses/44\n",
            "2000 Images from : fourtyclasses/13\n",
            "2000 Images from : fourtyclasses/59\n",
            "2000 Images from : fourtyclasses/2\n"
          ],
          "name": "stdout"
        }
      ]
    },
    {
      "cell_type": "code",
      "metadata": {
        "id": "bQ5tjboMvetT"
      },
      "source": [
        "image_count = len(file_list)\n",
        "print(f'Number of images : {image_count}')\n",
        "print('\\n'.join(file_list[:10]))\n",
        "print(len(class_names))"
      ],
      "id": "bQ5tjboMvetT",
      "execution_count": null,
      "outputs": []
    },
    {
      "cell_type": "code",
      "metadata": {
        "id": "SiC60YSoUFNu"
      },
      "source": [
        "# Save the file list if required\n",
        "#pickle.dump(file_list,open('./pkl_data/20210608.pkl','wb'))"
      ],
      "id": "SiC60YSoUFNu",
      "execution_count": null,
      "outputs": []
    },
    {
      "cell_type": "code",
      "metadata": {
        "id": "i7lr5EKeUJKy",
        "scrolled": false
      },
      "source": [
        "#file_list = pickle.load(open('./pkl_data/20210608.pkl','rb'))\n",
        "\n",
        "image_count = len(file_list)\n",
        "print(f'Number of images : {image_count}')\n",
        "print('\\n'.join(file_list[:10]))\n",
        "print(f\"Number of classes: {len(class_names)}\\n\\\n",
        "Classes: {class_names}\")"
      ],
      "id": "i7lr5EKeUJKy",
      "execution_count": null,
      "outputs": []
    },
    {
      "cell_type": "code",
      "metadata": {
        "id": "10cd46f9",
        "outputId": "cda02f30-85d9-4fd1-f82e-51f56e8fb0c6"
      },
      "source": [
        "print('\\n'.join(file_list[:5]))"
      ],
      "id": "10cd46f9",
      "execution_count": null,
      "outputs": [
        {
          "output_type": "stream",
          "text": [
            "fourtyclasses/29/MD2696.JPG\n",
            "fourtyclasses/43/1223_3.jpg\n",
            "fourtyclasses/38/MD145.jpg\n",
            "fourtyclasses/57/8337.jpg\n",
            "fourtyclasses/60/17871_3.jpg\n"
          ],
          "name": "stdout"
        }
      ]
    },
    {
      "cell_type": "code",
      "metadata": {
        "colab": {
          "base_uri": "https://localhost:8080/"
        },
        "id": "e63e2165",
        "outputId": "eaad72ed-94ac-4352-dce3-456f41f2842b"
      },
      "source": [
        "#load the file list\n",
        "#dataset = tf.data.Dataset.list_files(str(base_dir+'/*/*'),shuffle=False) #This can be used instead of the for loop above\n",
        "\n",
        "# Create a data set from the file_list loaded\n",
        "dataset = tf.data.Dataset.from_tensor_slices(file_list)\n",
        "\n",
        "#shuffle the data\n",
        "# The file list already doing the shuffle.\n",
        "#dataset = dataset.shuffle(image_count, reshuffle_each_iteration=False)\n",
        "\n",
        "for f in dataset.take(10):\n",
        "    print(f.numpy())\n",
        "\n",
        "#Print the class names\n",
        "#class_names = np.array(sorted[item.name for item in data])"
      ],
      "id": "e63e2165",
      "execution_count": null,
      "outputs": [
        {
          "output_type": "stream",
          "text": [
            "b'fourtyclasses/29/MD2696.JPG'\n",
            "b'fourtyclasses/43/1223_3.jpg'\n",
            "b'fourtyclasses/38/MD145.jpg'\n",
            "b'fourtyclasses/57/8337.jpg'\n",
            "b'fourtyclasses/60/17871_3.jpg'\n",
            "b'fourtyclasses/43/193_25_5.jpg'\n",
            "b'fourtyclasses/51/5172_1.jpg'\n",
            "b'fourtyclasses/42/185_24_5.jpg'\n",
            "b'fourtyclasses/27/7612_1.jpg'\n",
            "b'fourtyclasses/57/fgikglol_4.jpg'\n"
          ],
          "name": "stdout"
        }
      ]
    },
    {
      "cell_type": "code",
      "metadata": {
        "colab": {
          "base_uri": "https://localhost:8080/"
        },
        "id": "8fdf25cc",
        "outputId": "7f206501-9c91-40ff-916e-d0d57bd6ed50"
      },
      "source": [
        "val_size = int(image_count * 0.2)\n",
        "print(tf.data.experimental.cardinality(dataset).numpy())"
      ],
      "id": "8fdf25cc",
      "execution_count": null,
      "outputs": [
        {
          "output_type": "stream",
          "text": [
            "90000\n"
          ],
          "name": "stdout"
        }
      ]
    },
    {
      "cell_type": "code",
      "metadata": {
        "id": "7590e070"
      },
      "source": [
        "def get_label (file_name):\n",
        "    parts = tf.strings.split(file_name,os.path.sep)\n",
        "    one_hot = parts[-2] == class_names\n",
        "    return tf.argmax(one_hot)\n",
        "\n",
        "def decode_image(img_file,image_type=None,resize_shape=None, channels=0):\n",
        "    if image_type == 'jpeg' or image_type == 'jpg':\n",
        "        img_decoded = tf.image.decode_jpeg(img_file,channels=channels)\n",
        "    elif image_type == 'png':\n",
        "        img_decoded = tf.image.decode_png(img_file,channels=channels)\n",
        "    else:\n",
        "        img_decoded = tf.image.decode_image(img_file,channels=channels)\n",
        "    \n",
        "    if (image_type in ['jpeg','jpg', 'png']) and resize_shape != None:\n",
        "        img_decoded = tf.image.resize(img_decoded,resize_shape,method='lanczos3')\n",
        "    img_decoded = tf.image.rgb_to_grayscale(img_decoded)\n",
        "    return img_decoded\n",
        "\n",
        "def process_path(file_name):\n",
        "    label = get_label(file_name)\n",
        "    \n",
        "    #Load the raw data\n",
        "    img = tf.io.read_file(file_name)\n",
        "    img = decode_image(img,'jpeg',resize_shape=(img_width,img_height),channels=3)\n",
        "    \n",
        "    return img,label"
      ],
      "id": "7590e070",
      "execution_count": null,
      "outputs": []
    },
    {
      "cell_type": "code",
      "metadata": {
        "id": "4eb3c4d5"
      },
      "source": [
        "dataset_img = dataset.map(process_path)"
      ],
      "id": "4eb3c4d5",
      "execution_count": null,
      "outputs": []
    },
    {
      "cell_type": "code",
      "metadata": {
        "colab": {
          "base_uri": "https://localhost:8080/"
        },
        "id": "87fd2a08",
        "outputId": "00bfd962-5a08-4142-d10f-b76986832162"
      },
      "source": [
        "val_size = int(image_count * 0.2)\n",
        "train_ds_img = dataset_img.skip(val_size)\n",
        "test_ds_img  = dataset_img.take(val_size)\n",
        "\n",
        "print(tf.data.experimental.cardinality(train_ds_img).numpy())\n",
        "print(tf.data.experimental.cardinality(test_ds_img).numpy())"
      ],
      "id": "87fd2a08",
      "execution_count": null,
      "outputs": [
        {
          "output_type": "stream",
          "text": [
            "72000\n",
            "18000\n"
          ],
          "name": "stdout"
        }
      ]
    },
    {
      "cell_type": "code",
      "metadata": {
        "colab": {
          "base_uri": "https://localhost:8080/"
        },
        "id": "9fc27c35",
        "outputId": "0eac9160-b034-46ac-de1b-f673df807f51"
      },
      "source": [
        "batch_size = 64\n",
        "\n",
        "train_batchs = train_ds_img.batch(batch_size)\n",
        "test_batchs = test_ds_img.batch(batch_size)\n",
        "print (f\"Number of Training batchs: {tf.data.experimental.cardinality(train_batchs).numpy()}\")\n",
        "print (f\"Number of Testing batchs: {tf.data.experimental.cardinality(test_batchs).numpy()}\")\n",
        "\n",
        "#for x,y in train_batchs.take(5):\n",
        "#    print(y.numpy())'''"
      ],
      "id": "9fc27c35",
      "execution_count": null,
      "outputs": [
        {
          "output_type": "stream",
          "text": [
            "Number of Training batchs: 1125\n",
            "Number of Testing batchs: 282\n"
          ],
          "name": "stdout"
        }
      ]
    },
    {
      "cell_type": "code",
      "metadata": {
        "id": "5afffe38"
      },
      "source": [
        "num_classes = len(class_names)\n",
        "  \n",
        "model = Sequential([\n",
        "  layers.experimental.preprocessing.Rescaling(1./255, input_shape=(img_height, img_width, 1)),\n",
        "  layers.Conv2D(16, 3, padding='same', activation='relu'),#,input_shape=(img_height, img_width, 1)),\n",
        "  layers.Dropout(0.1,seed=4),\n",
        "  layers.MaxPooling2D(),\n",
        "  layers.Conv2D(32, 3, padding='same', activation='relu'),\n",
        "  layers.Dropout(0.2,seed=9),\n",
        "  layers.Conv2D(32, 3, padding='same', activation='relu'),\n",
        "  layers.Dropout(0.3,seed=12),\n",
        "  layers.MaxPooling2D(),\n",
        "  layers.Conv2D(64, 3, padding='same', activation='relu'),\n",
        "  layers.Dropout(0.4,seed=34),\n",
        "  layers.MaxPooling2D(),\n",
        "  layers.Flatten(),\n",
        "  layers.Dense(500, activation='relu'),\n",
        "  layers.Dropout(0.5,seed=1),\n",
        "  layers.Dense(200, activation='relu'),\n",
        "  layers.Dense(num_classes,)\n",
        "])"
      ],
      "id": "5afffe38",
      "execution_count": null,
      "outputs": []
    },
    {
      "cell_type": "code",
      "metadata": {
        "colab": {
          "base_uri": "https://localhost:8080/"
        },
        "id": "bc53021a",
        "scrolled": false,
        "outputId": "aeaf3964-42e4-4f4d-bb6b-0eeca797cda3"
      },
      "source": [
        "model.compile(optimizer='adam',\n",
        "              loss=tf.keras.losses.SparseCategoricalCrossentropy(from_logits=True),\n",
        "              metrics=['accuracy'])\n",
        "#model.build()\n",
        "model.summary()"
      ],
      "id": "bc53021a",
      "execution_count": null,
      "outputs": [
        {
          "output_type": "stream",
          "text": [
            "Model: \"sequential\"\n",
            "_________________________________________________________________\n",
            "Layer (type)                 Output Shape              Param #   \n",
            "=================================================================\n",
            "rescaling (Rescaling)        (None, 64, 64, 1)         0         \n",
            "_________________________________________________________________\n",
            "conv2d (Conv2D)              (None, 64, 64, 16)        160       \n",
            "_________________________________________________________________\n",
            "dropout (Dropout)            (None, 64, 64, 16)        0         \n",
            "_________________________________________________________________\n",
            "max_pooling2d (MaxPooling2D) (None, 32, 32, 16)        0         \n",
            "_________________________________________________________________\n",
            "conv2d_1 (Conv2D)            (None, 32, 32, 32)        4640      \n",
            "_________________________________________________________________\n",
            "dropout_1 (Dropout)          (None, 32, 32, 32)        0         \n",
            "_________________________________________________________________\n",
            "conv2d_2 (Conv2D)            (None, 32, 32, 32)        9248      \n",
            "_________________________________________________________________\n",
            "dropout_2 (Dropout)          (None, 32, 32, 32)        0         \n",
            "_________________________________________________________________\n",
            "max_pooling2d_1 (MaxPooling2 (None, 16, 16, 32)        0         \n",
            "_________________________________________________________________\n",
            "conv2d_3 (Conv2D)            (None, 16, 16, 64)        18496     \n",
            "_________________________________________________________________\n",
            "dropout_3 (Dropout)          (None, 16, 16, 64)        0         \n",
            "_________________________________________________________________\n",
            "max_pooling2d_2 (MaxPooling2 (None, 8, 8, 64)          0         \n",
            "_________________________________________________________________\n",
            "flatten (Flatten)            (None, 4096)              0         \n",
            "_________________________________________________________________\n",
            "dense (Dense)                (None, 500)               2048500   \n",
            "_________________________________________________________________\n",
            "dropout_4 (Dropout)          (None, 500)               0         \n",
            "_________________________________________________________________\n",
            "dense_1 (Dense)              (None, 200)               100200    \n",
            "_________________________________________________________________\n",
            "dense_2 (Dense)              (None, 45)                9045      \n",
            "=================================================================\n",
            "Total params: 2,190,289\n",
            "Trainable params: 2,190,289\n",
            "Non-trainable params: 0\n",
            "_________________________________________________________________\n"
          ],
          "name": "stdout"
        }
      ]
    },
    {
      "cell_type": "code",
      "metadata": {
        "id": "MpNQRcfE7K-k"
      },
      "source": [
        "#!mkdir pickles/checkpoint20200620\n",
        "checkpoint_filepath = './pickles/checkpoint20200620/checkpoint.chk'\n",
        "model_checkpoint_callback = tf.keras.callbacks.ModelCheckpoint(\n",
        "    filepath=checkpoint_filepath,\n",
        "    save_weights_only=True,\n",
        "    monitor='loss',\n",
        "    mode='auto',\n",
        "    save_best_only=True)\n",
        "\n",
        "early_stopping = tf.keras.callbacks.EarlyStopping(monitor='loss',patience=10)"
      ],
      "id": "MpNQRcfE7K-k",
      "execution_count": null,
      "outputs": []
    },
    {
      "cell_type": "code",
      "metadata": {
        "id": "ba58bdf1",
        "scrolled": false
      },
      "source": [
        "epochs=100\n",
        "history = model.fit(\n",
        "  train_batchs,\n",
        "  epochs=epochs,\n",
        "  callbacks = [model_checkpoint_callback,early_stopping],\n",
        "  validation_data=test_batchs,\n",
        "  )\n"
      ],
      "id": "ba58bdf1",
      "execution_count": null,
      "outputs": []
    },
    {
      "cell_type": "code",
      "metadata": {
        "id": "ga4eYolAtxzx"
      },
      "source": [
        "loss_values = history.history['val_loss']\n",
        "epochs = range(1, len(loss_values)+1)\n",
        "\n",
        "plt.plot(epochs, loss_values, label='Training Loss')\n",
        "plt.xlabel('Epochs')\n",
        "plt.ylabel('Loss')\n",
        "plt.legend()\n",
        "\n",
        "plt.show()"
      ],
      "id": "ga4eYolAtxzx",
      "execution_count": null,
      "outputs": []
    },
    {
      "cell_type": "code",
      "metadata": {
        "id": "9860f93d"
      },
      "source": [
        "loss_values = history.history['val_accuracy']\n",
        "epochs = range(1, len(loss_values)+1)\n",
        "\n",
        "plt.plot(epochs, loss_values, label='Training accuracy')\n",
        "plt.xlabel('Epochs')\n",
        "plt.ylabel('Accuracy')\n",
        "plt.legend()\n",
        "\n",
        "plt.show()"
      ],
      "id": "9860f93d",
      "execution_count": null,
      "outputs": []
    },
    {
      "cell_type": "code",
      "metadata": {
        "id": "4cffc3da"
      },
      "source": [
        "name = 'model7'\n",
        "historyfile = name+\"_history.pkl\"\n",
        "model.save(str('pickles/'+name+'.h5'),save_format='h5')\n",
        "pickle.dump(history.history,open('pickles/'+historyfile, 'wb'))"
      ],
      "id": "4cffc3da",
      "execution_count": null,
      "outputs": []
    },
    {
      "cell_type": "code",
      "metadata": {
        "colab": {
          "base_uri": "https://localhost:8080/"
        },
        "id": "1a4235e0",
        "outputId": "2f2f8f3c-cd7a-4a3e-dd73-bd9411561323"
      },
      "source": [
        "print(history.history.keys())\n"
      ],
      "id": "1a4235e0",
      "execution_count": null,
      "outputs": [
        {
          "output_type": "stream",
          "text": [
            "dict_keys(['loss', 'accuracy', 'val_loss', 'val_accuracy'])\n"
          ],
          "name": "stdout"
        }
      ]
    },
    {
      "cell_type": "markdown",
      "metadata": {
        "id": "30731a70"
      },
      "source": [
        "## Loading the character encodings"
      ],
      "id": "30731a70"
    },
    {
      "cell_type": "code",
      "metadata": {
        "id": "7ac0c23c"
      },
      "source": [
        "encoding_file = '../charecter_folder_encoding.pkl'"
      ],
      "id": "7ac0c23c",
      "execution_count": null,
      "outputs": []
    },
    {
      "cell_type": "code",
      "metadata": {
        "id": "61ed155f"
      },
      "source": [
        "character_dict = pickle.load(open(encoding_file,'rb'))"
      ],
      "id": "61ed155f",
      "execution_count": null,
      "outputs": []
    },
    {
      "cell_type": "code",
      "metadata": {
        "id": "76636282"
      },
      "source": [
        "class_char = [ character_dict[int(x)].decode('utf-8') for x in class_names ]"
      ],
      "id": "76636282",
      "execution_count": null,
      "outputs": []
    },
    {
      "cell_type": "code",
      "metadata": {
        "id": "4f664aed",
        "outputId": "d2185ccd-3a7e-4e2d-e3e2-6d6f4e32d657"
      },
      "source": [
        "print(class_char)"
      ],
      "id": "4f664aed",
      "execution_count": null,
      "outputs": [
        {
          "output_type": "stream",
          "text": [
            "['പ', 'ങ', 'ന', 'ന്ധ', 'ധ', 'റ', 'ർ', 'സ', 'വ', 'ഥ', 'ഢ', 'ച', 'ഫ', 'ല', 'ഠ', 'ഡ', 'ജ', 'അ', 'ഋ', 'ഞ', 'ആ', 'യ', 'ൾ', 'മ', 'ഘ', 'ഹ', 'ട', 'ള', 'ര', 'ബ', 'ത', 'ശ', 'ഴ', 'ഛ', 'ണ', 'ൺ', 'ഇ', 'ൻ', 'ൽ', 'ഭ', 'ഷ', 'ദ', 'ഗ', 'ഉ', 'ഖ']\n"
          ],
          "name": "stdout"
        }
      ]
    },
    {
      "cell_type": "markdown",
      "metadata": {
        "id": "9X3c49eZWTPf"
      },
      "source": [
        "## Loading saved model"
      ],
      "id": "9X3c49eZWTPf"
    },
    {
      "cell_type": "code",
      "metadata": {
        "id": "Wl6u40G9Tu-I",
        "outputId": "926a9c42-2222-496c-9dab-32a4d86d8aea"
      },
      "source": [
        "model = Sequential()\n",
        "name = 'model7'\n",
        "model = keras.models.load_model(str('pickles/'+name+'.h5'))\n",
        "model.summary()"
      ],
      "id": "Wl6u40G9Tu-I",
      "execution_count": null,
      "outputs": [
        {
          "output_type": "stream",
          "text": [
            "Model: \"sequential\"\n",
            "_________________________________________________________________\n",
            "Layer (type)                 Output Shape              Param #   \n",
            "=================================================================\n",
            "rescaling (Rescaling)        (None, 64, 64, 1)         0         \n",
            "_________________________________________________________________\n",
            "conv2d (Conv2D)              (None, 64, 64, 16)        160       \n",
            "_________________________________________________________________\n",
            "dropout (Dropout)            (None, 64, 64, 16)        0         \n",
            "_________________________________________________________________\n",
            "max_pooling2d (MaxPooling2D) (None, 32, 32, 16)        0         \n",
            "_________________________________________________________________\n",
            "conv2d_1 (Conv2D)            (None, 32, 32, 32)        4640      \n",
            "_________________________________________________________________\n",
            "dropout_1 (Dropout)          (None, 32, 32, 32)        0         \n",
            "_________________________________________________________________\n",
            "conv2d_2 (Conv2D)            (None, 32, 32, 32)        9248      \n",
            "_________________________________________________________________\n",
            "dropout_2 (Dropout)          (None, 32, 32, 32)        0         \n",
            "_________________________________________________________________\n",
            "max_pooling2d_1 (MaxPooling2 (None, 16, 16, 32)        0         \n",
            "_________________________________________________________________\n",
            "conv2d_3 (Conv2D)            (None, 16, 16, 64)        18496     \n",
            "_________________________________________________________________\n",
            "dropout_3 (Dropout)          (None, 16, 16, 64)        0         \n",
            "_________________________________________________________________\n",
            "max_pooling2d_2 (MaxPooling2 (None, 8, 8, 64)          0         \n",
            "_________________________________________________________________\n",
            "flatten (Flatten)            (None, 4096)              0         \n",
            "_________________________________________________________________\n",
            "dense (Dense)                (None, 500)               2048500   \n",
            "_________________________________________________________________\n",
            "dropout_4 (Dropout)          (None, 500)               0         \n",
            "_________________________________________________________________\n",
            "dense_1 (Dense)              (None, 200)               100200    \n",
            "_________________________________________________________________\n",
            "dense_2 (Dense)              (None, 45)                9045      \n",
            "=================================================================\n",
            "Total params: 2,190,289\n",
            "Trainable params: 2,190,289\n",
            "Non-trainable params: 0\n",
            "_________________________________________________________________\n"
          ],
          "name": "stdout"
        }
      ]
    },
    {
      "cell_type": "markdown",
      "metadata": {
        "id": "bf35127b"
      },
      "source": [
        "### Run Evaluation on the model\n",
        "This ensures that weights were saved as well"
      ],
      "id": "bf35127b"
    },
    {
      "cell_type": "code",
      "metadata": {
        "colab": {
          "base_uri": "https://localhost:8080/"
        },
        "id": "uclwV714WSrH",
        "outputId": "33fcaed6-352c-4fb7-8f07-a541019daa55"
      },
      "source": [
        "evaluation_train=model.evaluate(train_batchs,return_dict=True)"
      ],
      "id": "uclwV714WSrH",
      "execution_count": null,
      "outputs": [
        {
          "output_type": "stream",
          "text": [
            "720/720 [==============================] - 777s 993ms/step - loss: 0.0357 - accuracy: 0.9926\n"
          ],
          "name": "stdout"
        }
      ]
    },
    {
      "cell_type": "code",
      "metadata": {
        "id": "e243fffb",
        "outputId": "7c94e7bc-953f-42f2-ec11-612ef97b30e4"
      },
      "source": [
        "evaluation_test=model.evaluate(test_batchs,return_dict=True)"
      ],
      "id": "e243fffb",
      "execution_count": null,
      "outputs": [
        {
          "output_type": "stream",
          "text": [
            "180/180 [==============================] - 148s 812ms/step - loss: 0.0629 - accuracy: 0.9849\n"
          ],
          "name": "stdout"
        }
      ]
    },
    {
      "cell_type": "code",
      "metadata": {
        "id": "eaBl7Hx3X23w"
      },
      "source": [
        "dot_img_file = './plot.png'\n",
        "tf.keras.utils.plot_model(model, to_file=dot_img_file, show_shapes=True)"
      ],
      "id": "eaBl7Hx3X23w",
      "execution_count": null,
      "outputs": []
    },
    {
      "cell_type": "markdown",
      "metadata": {
        "id": "a4770cde"
      },
      "source": [
        "### Do the predictions"
      ],
      "id": "a4770cde"
    },
    {
      "cell_type": "code",
      "metadata": {
        "id": "X6POn8pqdKnQ"
      },
      "source": [
        "y_predict = model.predict(test_batchs)"
      ],
      "id": "X6POn8pqdKnQ",
      "execution_count": null,
      "outputs": []
    },
    {
      "cell_type": "code",
      "metadata": {
        "colab": {
          "base_uri": "https://localhost:8080/"
        },
        "id": "EHBs-UM6dTlc",
        "outputId": "548068f9-3720-48aa-db72-71b354905650"
      },
      "source": [
        "print(type(y_predict))\n",
        "print(test_ds_img)"
      ],
      "id": "EHBs-UM6dTlc",
      "execution_count": null,
      "outputs": [
        {
          "output_type": "stream",
          "text": [
            "<class 'numpy.ndarray'>\n",
            "<TakeDataset shapes: ((64, 64, 1), ()), types: (tf.float32, tf.int64)>\n"
          ],
          "name": "stdout"
        }
      ]
    },
    {
      "cell_type": "code",
      "metadata": {
        "colab": {
          "base_uri": "https://localhost:8080/"
        },
        "id": "sMYNHCPLd9hG",
        "outputId": "8607b5d6-efca-49fa-a806-1c9bd3cfd98c"
      },
      "source": [
        "Y_test = []\n",
        "y_act_predict = np.argmax(y_predict,axis=1)\n",
        "print(y_act_predict.shape)\n",
        "for img,label in test_ds_img.as_numpy_iterator():\n",
        "    Y_test.append(label)\n",
        "Y_test = np.array(Y_test)\n",
        "print(Y_test.shape)"
      ],
      "id": "sMYNHCPLd9hG",
      "execution_count": null,
      "outputs": [
        {
          "output_type": "stream",
          "text": [
            "(18000,)\n",
            "(18000,)\n"
          ],
          "name": "stdout"
        }
      ]
    },
    {
      "cell_type": "markdown",
      "metadata": {
        "id": "64684449"
      },
      "source": [
        "#### Create the classification report and Confusion matrix"
      ],
      "id": "64684449"
    },
    {
      "cell_type": "code",
      "metadata": {
        "colab": {
          "base_uri": "https://localhost:8080/"
        },
        "id": "yRkCs1upfwKM",
        "outputId": "58b8c27d-f805-4610-8484-114b64f369d7"
      },
      "source": [
        "print(classification_report(Y_test,y_act_predict,))\n",
        "con_mat = confusion_matrix(Y_test,y_act_predict)"
      ],
      "id": "yRkCs1upfwKM",
      "execution_count": null,
      "outputs": [
        {
          "output_type": "stream",
          "text": [
            "              precision    recall  f1-score   support\n",
            "\n",
            "           0       0.97      0.95      0.96       409\n",
            "           1       0.99      1.00      0.99       433\n",
            "           2       0.98      1.00      0.99       402\n",
            "           3       1.00      0.99      0.99       411\n",
            "           4       0.98      0.99      0.98       415\n",
            "           5       1.00      1.00      1.00       410\n",
            "           6       0.98      0.99      0.98       379\n",
            "           7       0.98      0.99      0.98       369\n",
            "           8       0.95      0.98      0.97       388\n",
            "           9       0.98      1.00      0.99       405\n",
            "          10       0.99      0.97      0.98       410\n",
            "          11       0.99      0.99      0.99       402\n",
            "          12       0.98      0.99      0.99       413\n",
            "          13       1.00      0.99      0.99       398\n",
            "          14       0.99      1.00      0.99       392\n",
            "          15       0.95      0.98      0.96       390\n",
            "          16       1.00      0.99      0.99       412\n",
            "          17       0.99      0.99      0.99       412\n",
            "          18       0.99      0.99      0.99       405\n",
            "          19       0.98      0.99      0.98       359\n",
            "          20       0.99      0.98      0.99       378\n",
            "          21       1.00      0.98      0.99       406\n",
            "          22       0.99      0.99      0.99       410\n",
            "          23       0.99      1.00      0.99       401\n",
            "          24       1.00      1.00      1.00       408\n",
            "          25       0.99      0.99      0.99       415\n",
            "          26       0.99      1.00      1.00       427\n",
            "          27       0.98      0.98      0.98       379\n",
            "          28       0.98      1.00      0.99       448\n",
            "          29       0.99      0.99      0.99       390\n",
            "          30       0.99      0.98      0.99       354\n",
            "          31       1.00      0.98      0.99       422\n",
            "          32       0.98      0.99      0.99       406\n",
            "          33       1.00      0.99      0.99       392\n",
            "          34       0.99      0.97      0.98       393\n",
            "          35       1.00      1.00      1.00       413\n",
            "          36       0.99      0.98      0.99       435\n",
            "          37       0.98      0.96      0.97       417\n",
            "          38       0.96      0.97      0.97       373\n",
            "          39       0.98      0.93      0.95       373\n",
            "          40       0.99      0.98      0.99       366\n",
            "          41       0.94      0.97      0.96       429\n",
            "          42       0.99      1.00      0.99       377\n",
            "          43       0.97      0.99      0.98       381\n",
            "          44       0.98      0.97      0.98       393\n",
            "\n",
            "    accuracy                           0.98     18000\n",
            "   macro avg       0.98      0.98      0.98     18000\n",
            "weighted avg       0.99      0.98      0.98     18000\n",
            "\n"
          ],
          "name": "stdout"
        }
      ]
    },
    {
      "cell_type": "code",
      "metadata": {
        "colab": {
          "base_uri": "https://localhost:8080/"
        },
        "id": "29OtT1vdgH22",
        "outputId": "4737e673-9f02-4f81-db11-e976edbdfa11"
      },
      "source": [
        "fig, ax = plt.subplots(figsize=(30, 30))\n",
        "ConfusionMatrixDisplay(con_mat,class_names).plot(ax=ax,values_format = 'd')"
      ],
      "id": "29OtT1vdgH22",
      "execution_count": null,
      "outputs": [
        {
          "output_type": "stream",
          "text": [
            "/home/shared/Files/Programing/Python/Jupyter Notebooks/OCR Malayalam/Classifiers/DeepLearning/myenv/lib/python3.9/site-packages/sklearn/utils/validation.py:70: FutureWarning: Pass display_labels=['47', '30', '46', '29', '45', '64', '26', '60', '56', '43', '40', '31', '49', '55', '38', '39', '33', '1', '70', '35', '37', '53', '27', '52', '24', '61', '36', '62', '54', '50', '42', '57', '63', '32', '41', '28', '48', '23', '25', '51', '58', '44', '13', '59', '2'] as keyword args. From version 1.0 (renaming of 0.25) passing these as positional arguments will result in an error\n",
            "  warnings.warn(f\"Pass {args_msg} as keyword args. From version \"\n"
          ],
          "name": "stderr"
        },
        {
          "output_type": "execute_result",
          "data": {
            "text/plain": [
              "<sklearn.metrics._plot.confusion_matrix.ConfusionMatrixDisplay at 0x7f71209385e0>"
            ]
          },
          "metadata": {
            "tags": []
          },
          "execution_count": 79
        },
        {
          "output_type": "display_data",
          "data": {
            "image/png": "[encoded data removed]",
            "text/plain": [
              "<Figure size 2160x2160 with 2 Axes>"
            ]
          },
          "metadata": {
            "tags": [],
            "needs_background": "light"
          }
        }
      ]
    },
    {
      "cell_type": "markdown",
      "metadata": {
        "id": "1db6878b"
      },
      "source": [
        "## Predictions on a single image "
      ],
      "id": "1db6878b"
    },
    {
      "cell_type": "code",
      "metadata": {
        "id": "SCowwXLk11lG"
      },
      "source": [
        "img_pos = random.randint(0,len(file_list))\n",
        "img_file = file_list[img_pos]\n",
        "img_label = img_file.split('/')[-2]\n",
        "img_label = character_dict[int(img_label)]\n",
        "img = process_path(img_file)"
      ],
      "id": "SCowwXLk11lG",
      "execution_count": null,
      "outputs": []
    },
    {
      "cell_type": "code",
      "metadata": {
        "colab": {
          "base_uri": "https://localhost:8080/",
          "height": 302
        },
        "id": "8rDlqWOBj_pK",
        "outputId": "786635b4-d2df-4b14-b1d8-1191d9008c92"
      },
      "source": [
        "print(f\"Image Label: {img_label.decode('utf-8')}\")\n",
        "plt.imshow(img[0].numpy().reshape((64,64)),\"gray\")"
      ],
      "id": "8rDlqWOBj_pK",
      "execution_count": null,
      "outputs": [
        {
          "output_type": "stream",
          "text": [
            "Image Label: ഖ\n"
          ],
          "name": "stdout"
        },
        {
          "output_type": "execute_result",
          "data": {
            "text/plain": [
              "<matplotlib.image.AxesImage at 0x7f711a88e340>"
            ]
          },
          "metadata": {
            "tags": []
          },
          "execution_count": 82
        },
        {
          "output_type": "display_data",
          "data": {
            "image/png": "[encoded data removed]",
            "text/plain": [
              "<Figure size 432x288 with 1 Axes>"
            ]
          },
          "metadata": {
            "tags": [],
            "needs_background": "light"
          }
        }
      ]
    },
    {
      "cell_type": "code",
      "metadata": {
        "colab": {
          "base_uri": "https://localhost:8080/"
        },
        "id": "worWrkcDkqMj",
        "outputId": "a5ce2782-ab37-4c97-d423-e3ae6d05c2ce"
      },
      "source": [
        "num_of_test = 1\n",
        "\n",
        "test_image = tf.data.Dataset.from_tensor_slices([img_file])\n",
        "test_image = test_image.map(process_path)\n",
        "test_image = test_image.batch(num_of_test)\n",
        "\n",
        "prediction = model.predict(test_image)\n",
        "predicted_name = str(class_names[np.argmax(prediction, axis=1)[0]])\n",
        "predicted_name = character_dict[int(predicted_name)]\n",
        "\n",
        "if predicted_name == img_label:\n",
        "    print(f\"Correctly predicted: {predicted_name.decode('utf-8')}\")\n",
        "else:\n",
        "    print(f\"Incorrect prediction: predicted_value: {predicted_name.decode('utf-8')},\\\n",
        "    True value: {img_label.decode('utf-8')}\")\n",
        "    print(f\"file_name: {img_file.decode('utf-8')}\")\n"
      ],
      "id": "worWrkcDkqMj",
      "execution_count": null,
      "outputs": [
        {
          "output_type": "stream",
          "text": [
            "Correctly predicted: ഖ\n"
          ],
          "name": "stdout"
        }
      ]
    },
    {
      "cell_type": "markdown",
      "metadata": {
        "id": "659ee63d"
      },
      "source": [
        "## Grad-Cam\n",
        "The code for grad-cam is refered from the Keras Documentation\n",
        "[here](https://keras.io/examples/vision/grad_cam/)"
      ],
      "id": "659ee63d"
    },
    {
      "cell_type": "code",
      "metadata": {
        "id": "9ded1999"
      },
      "source": [
        "import numpy as np\n",
        "\n",
        "# Display\n",
        "from IPython.display import Image, display\n",
        "import matplotlib.cm as cm\n",
        "import cv2"
      ],
      "id": "9ded1999",
      "execution_count": null,
      "outputs": []
    },
    {
      "cell_type": "code",
      "metadata": {
        "id": "66d2fae4",
        "outputId": "bd8bcfc9-fe04-4d12-f27b-db6fddaeee6d"
      },
      "source": [
        "last_conv_layer_name = \"conv2d_7\"\n",
        "\n",
        "dims = (64,64)\n",
        "img_path = img_file\n",
        "\n",
        "display(Image(img_file))\n",
        "print(img_file)"
      ],
      "id": "66d2fae4",
      "execution_count": null,
      "outputs": [
        {
          "output_type": "display_data",
          "data": {
            "image/jpeg": "[encoded data removed]",
            "text/plain": [
              "<IPython.core.display.Image object>"
            ]
          },
          "metadata": {
            "tags": []
          }
        },
        {
          "output_type": "stream",
          "text": [
            "fourtyclasses/2/2047_4.jpg\n"
          ],
          "name": "stdout"
        }
      ]
    },
    {
      "cell_type": "code",
      "metadata": {
        "id": "93201629",
        "outputId": "2ebc99e2-6e63-41f4-a193-97fc681e7a0f"
      },
      "source": [
        "def get_img_array(img_path, size):\n",
        "    # `img` is a image of size 299x299\n",
        "    img = cv2.imread(img_path,cv2.IMREAD_GRAYSCALE)\n",
        "    # `array` is a float32 Numpy array of shape (299, 299, 3)\n",
        "    img = cv2.resize(img,size)\n",
        "    # We add a dimension to transform our array into a \"batch\"\n",
        "    # of size (1, 299, 299, 3)\n",
        "    img = np.expand_dims(img, axis=2)\n",
        "    img = np.expand_dims(img, axis=0)\n",
        "    img = img*1.0\n",
        "    return img\n",
        "arr = get_img_array(img_file,dims)\n",
        "print(arr.shape)"
      ],
      "id": "93201629",
      "execution_count": null,
      "outputs": [
        {
          "output_type": "stream",
          "text": [
            "(1, 64, 64, 1)\n"
          ],
          "name": "stdout"
        }
      ]
    },
    {
      "cell_type": "code",
      "metadata": {
        "id": "0a8ecc1f"
      },
      "source": [
        "def make_gradcam_heatmap(img_array, model_orig, last_conv_layer_name, pred_index=None):\n",
        "    # First, we create a model that maps the input image to the activations\n",
        "    # of the last conv layer as well as the output predictions\n",
        "    model = keras.models.clone_model(model_orig)\n",
        "    \n",
        "    model.layers[-1].activation = None\n",
        "    #model = layers[1:]\n",
        "    grad_model = tf.keras.models.Model(\n",
        "        [model.inputs], [model.get_layer(last_conv_layer_name).output, model.output]\n",
        "    )\n",
        "    #print(grad_model.summary())\n",
        "    \n",
        "    # Then, we compute the gradient of the top predicted class for our input image\n",
        "    # with respect to the activations of the last conv layer\n",
        "    with tf.GradientTape() as tape:\n",
        "        last_conv_layer_output, preds = grad_model(img_array)\n",
        "        if pred_index is None:\n",
        "            pred_index = tf.argmax(preds[0])\n",
        "            print(pred_index)\n",
        "        class_channel = preds[:, pred_index]\n",
        "\n",
        "    # This is the gradient of the output neuron (top predicted or chosen)\n",
        "    # with regard to the output feature map of the last conv layer\n",
        "    #print(last_conv_layer_output)\n",
        "    grads = tape.gradient(class_channel, last_conv_layer_output)\n",
        "    #print(grads)\n",
        "\n",
        "    # This is a vector where each entry is the mean intensity of the gradient\n",
        "    # over a specific feature map channel\n",
        "    pooled_grads = tf.reduce_mean(grads, axis=(0, 1, 2))\n",
        "\n",
        "    # We multiply each channel in the feature map array\n",
        "    # by \"how important this channel is\" with regard to the top predicted class\n",
        "    # then sum all the channels to obtain the heatmap class activation\n",
        "    last_conv_layer_output = last_conv_layer_output[0]\n",
        "    heatmap = last_conv_layer_output @ pooled_grads[..., tf.newaxis]\n",
        "    heatmap = tf.squeeze(heatmap)\n",
        "\n",
        "    # For visualization purpose, we will also normalize the heatmap between 0 & 1\n",
        "    heatmap = tf.maximum(heatmap, 0) / tf.math.reduce_max(heatmap)\n",
        "    return heatmap.numpy()"
      ],
      "id": "0a8ecc1f",
      "execution_count": null,
      "outputs": []
    },
    {
      "cell_type": "code",
      "metadata": {
        "id": "76e8805b",
        "outputId": "9fc7b560-7d4b-44b8-9b1d-ad4998b23936"
      },
      "source": [
        "last_conv_layer_name = \"conv2d_3\" # this name is from the model summay, select the convolution layer whose gradients you want to see\n",
        "preds = model.predict(arr)\n",
        "#print(\"Predicted:\", decode_predictions(preds, top=1)[0])\n",
        "heatmap = make_gradcam_heatmap(arr, model, last_conv_layer_name)\n",
        "plt.matshow(heatmap)\n",
        "plt.show()"
      ],
      "id": "76e8805b",
      "execution_count": null,
      "outputs": [
        {
          "output_type": "stream",
          "text": [
            "tf.Tensor(33, shape=(), dtype=int64)\n"
          ],
          "name": "stdout"
        },
        {
          "output_type": "display_data",
          "data": {
            "image/png": "[encoded data removed]",
            "text/plain": [
              "<Figure size 288x288 with 1 Axes>"
            ]
          },
          "metadata": {
            "tags": [],
            "needs_background": "light"
          }
        }
      ]
    },
    {
      "cell_type": "code",
      "metadata": {
        "id": "b98a5672"
      },
      "source": [
        "def save_and_display_gradcam(img_path, heatmap, cam_path=None, alpha=0.4):\n",
        "    # Load the original image\n",
        "    img = keras.preprocessing.image.load_img(img_path)\n",
        "    img = keras.preprocessing.image.img_to_array(img)\n",
        "    \n",
        "    # Rescale heatmap to a range 0-255\n",
        "    heatmap = np.uint8(255 * heatmap)\n",
        "\n",
        "    # Use jet colormap to colorize heatmap\n",
        "    jet = cm.get_cmap(\"jet\")\n",
        "\n",
        "    # Use RGB values of the colormap\n",
        "    jet_colors = jet(np.arange(256))[:, :3]\n",
        "    jet_heatmap = jet_colors[heatmap]\n",
        "\n",
        "    # Create an image with RGB colorized heatmap\n",
        "    jet_heatmap = keras.preprocessing.image.array_to_img(jet_heatmap)\n",
        "    jet_heatmap = jet_heatmap.resize((img.shape[1], img.shape[0]))\n",
        "    jet_heatmap = keras.preprocessing.image.img_to_array(jet_heatmap)\n",
        "\n",
        "    # Superimpose the heatmap on original image\n",
        "    superimposed_img = jet_heatmap * alpha + img\n",
        "    superimposed_img = keras.preprocessing.image.array_to_img(superimposed_img)\n",
        "\n",
        "    # Save the superimposed image\n",
        "    if cam_path == None:\n",
        "            cam_path ='/tmp/img.jpg'\n",
        "    superimposed_img.save(cam_path)\n",
        "\n",
        "    # Display Grad CAM\n",
        "    #display(Image(cam_path))\n",
        "    return superimposed_img"
      ],
      "id": "b98a5672",
      "execution_count": null,
      "outputs": []
    },
    {
      "cell_type": "code",
      "metadata": {
        "id": "d11eb91c",
        "outputId": "da293598-2c04-499a-e6ac-abbead8cd6f2"
      },
      "source": [
        "plt.imshow(save_and_display_gradcam(img_file,heatmap))"
      ],
      "id": "d11eb91c",
      "execution_count": null,
      "outputs": [
        {
          "output_type": "execute_result",
          "data": {
            "text/plain": [
              "<matplotlib.image.AxesImage at 0x7f71187a8820>"
            ]
          },
          "metadata": {
            "tags": []
          },
          "execution_count": 91
        },
        {
          "output_type": "display_data",
          "data": {
            "image/png": "[encoded data removed]",
            "text/plain": [
              "<Figure size 432x288 with 1 Axes>"
            ]
          },
          "metadata": {
            "tags": [],
            "needs_background": "light"
          }
        }
      ]
    }
  ]
}