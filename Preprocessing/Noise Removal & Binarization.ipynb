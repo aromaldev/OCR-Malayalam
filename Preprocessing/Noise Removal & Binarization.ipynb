{
  "nbformat": 4,
  "nbformat_minor": 0,
  "metadata": {
    "colab": {
      "name": "Preprocessing Library.ipynb",
      "provenance": [],
      "collapsed_sections": [],
      "include_colab_link": true
    },
    "kernelspec": {
      "display_name": "Python 3",
      "name": "python3"
    },
    "language_info": {
      "name": "python"
    }
  },
  "cells": [
    {
      "cell_type": "markdown",
      "metadata": {
        "id": "view-in-github",
        "colab_type": "text"
      },
      "source": [
        "<a href=\"https://colab.research.google.com/github/aromaldev/OCR-Malayalam/blob/master/Preprocessing/Noise%20Removal%20%26%20Binarization.ipynb\" target=\"_parent\"><img src=\"https://colab.research.google.com/assets/colab-badge.svg\" alt=\"Open In Colab\"/></a>"
      ]
    },
    {
      "cell_type": "code",
      "metadata": {
        "colab": {
          "base_uri": "https://localhost:8080/"
        },
        "id": "DnyFZq9qFNPM",
        "cellView": "form",
        "outputId": "3c81c1b8-65e7-4f7b-96a9-5614b9e4b47c"
      },
      "source": [
        "#@title Install Modules\n",
        "!pip install bm3d\n",
        "!pip install opencv-rolling-ball"
      ],
      "execution_count": null,
      "outputs": [
        {
          "output_type": "stream",
          "text": [
            "Collecting bm3d\n",
            "\u001b[?25l  Downloading https://files.pythonhosted.org/packages/53/8c/7b63550950709bf0788489ec876590bbc8ce85289269ef9f0bc6d9a60c76/bm3d-3.0.9-py3-none-any.whl (8.4MB)\n",
            "\u001b[K     |████████████████████████████████| 8.4MB 3.9MB/s \n",
            "\u001b[?25hRequirement already satisfied: scipy in /usr/local/lib/python3.7/dist-packages (from bm3d) (1.4.1)\n",
            "Requirement already satisfied: numpy in /usr/local/lib/python3.7/dist-packages (from bm3d) (1.19.5)\n",
            "Requirement already satisfied: PyWavelets in /usr/local/lib/python3.7/dist-packages (from bm3d) (1.1.1)\n",
            "Installing collected packages: bm3d\n",
            "Successfully installed bm3d-3.0.9\n",
            "Collecting opencv-rolling-ball\n",
            "  Downloading https://files.pythonhosted.org/packages/86/a7/b210b66daf1d6beb12f5d5c8bc2f91a3b37f5fb520d6728d7c05ef4e6c14/opencv-rolling-ball-1.0.1.tar.gz\n",
            "Requirement already satisfied: opencv-python in /usr/local/lib/python3.7/dist-packages (from opencv-rolling-ball) (4.1.2.30)\n",
            "Requirement already satisfied: numpy in /usr/local/lib/python3.7/dist-packages (from opencv-rolling-ball) (1.19.5)\n",
            "Building wheels for collected packages: opencv-rolling-ball\n",
            "  Building wheel for opencv-rolling-ball (setup.py) ... \u001b[?25l\u001b[?25hdone\n",
            "  Created wheel for opencv-rolling-ball: filename=opencv_rolling_ball-1.0.1-cp37-none-any.whl size=6896 sha256=b49e93be721a5a8343097dd04ef98e219410c4efcdb73cf83cd76f299e603ed1\n",
            "  Stored in directory: /root/.cache/pip/wheels/2c/e6/f1/98b88182253ed128cd894b374378bdbd44211601329d78f7c7\n",
            "Successfully built opencv-rolling-ball\n",
            "Installing collected packages: opencv-rolling-ball\n",
            "Successfully installed opencv-rolling-ball-1.0.1\n"
          ],
          "name": "stdout"
        }
      ]
    },
    {
      "cell_type": "code",
      "metadata": {
        "id": "o6fSv4OeEo6j",
        "cellView": "form"
      },
      "source": [
        "#@title Utils\n",
        "import numpy as np\n",
        "from skimage.util.shape import view_as_windows\n",
        "from PIL import Image\n",
        "from matplotlib import pyplot as plt\n",
        "def threshold_feng(img, w_size1=15, w_size2=30,k1=0.15, k2=0.01, alpha1=0.1) :\n",
        "        # Obtaining rows and cols\n",
        "        rows, cols = img.shape\n",
        "        i_rows, i_cols = rows + 1, cols + 1\n",
        "\n",
        "        # Computing integral images\n",
        "        # Leaving first row and column in zero for convenience\n",
        "        integ = np.zeros((i_rows, i_cols), np.float)\n",
        "        sqr_integral = np.zeros((i_rows, i_cols), np.float)\n",
        "\n",
        "        integ[1:, 1:] = np.cumsum(np.cumsum(img.astype(np.float), axis=0), axis=1)\n",
        "        sqr_img = np.square(img.astype(np.float))\n",
        "        sqr_integral[1:, 1:] = np.cumsum(np.cumsum(sqr_img, axis=0), axis=1)\n",
        "\n",
        "        # Defining grid\n",
        "        x, y = np.meshgrid(np.arange(1, i_cols), np.arange(1, i_rows))\n",
        "\n",
        "        # Obtaining local coordinates\n",
        "        hw_size = w_size1 // 2\n",
        "        x1 = (x - hw_size).clip(1, cols)\n",
        "        x2 = (x + hw_size).clip(1, cols)\n",
        "        y1 = (y - hw_size).clip(1, rows)\n",
        "        y2 = (y + hw_size).clip(1, rows)\n",
        "\n",
        "        # Obtaining local areas size\n",
        "        l_size = (y2 - y1 + 1) * (x2 - x1 + 1)\n",
        "\n",
        "        # Computing sums\n",
        "        sums = (integ[y2, x2] - integ[y2, x1 - 1] -\n",
        "                integ[y1 - 1, x2] + integ[y1 - 1, x1 - 1])\n",
        "        sqr_sums = (sqr_integral[y2, x2] - sqr_integral[y2, x1 - 1] -\n",
        "                sqr_integral[y1 - 1, x2] + sqr_integral[y1 - 1, x1 - 1])\n",
        "\n",
        "        # Computing local means\n",
        "        means = sums / l_size\n",
        "\n",
        "        # Computing local standard deviation\n",
        "        stds = np.sqrt(sqr_sums / l_size - np.square(means))\n",
        "\n",
        "        # Obtaining windows\n",
        "        padded_img = np.ones((rows + w_size1 - 1, cols + w_size1 - 1)) * np.nan\n",
        "        padded_img[hw_size: -hw_size, hw_size: -hw_size] = img\n",
        "\n",
        "        winds = view_as_windows(padded_img, (w_size1, w_size1))\n",
        "\n",
        "        # Obtaining maximums and minimums\n",
        "        mins = np.nanmin(winds, axis=(2, 3))\n",
        "\n",
        "        # Obtaining local coordinates for std range calculations\n",
        "        hw_size = w_size2 // 2\n",
        "        x1 = (x - hw_size).clip(1, cols)\n",
        "        x2 = (x + hw_size).clip(1, cols)\n",
        "        y1 = (y - hw_size).clip(1, rows)\n",
        "        y2 = (y + hw_size).clip(1, rows)\n",
        "\n",
        "        # Obtaining local areas size\n",
        "        l_size = (y2 - y1 + 2) * (x2 - x1 + 2)\n",
        "\n",
        "        # Computing sums\n",
        "        sums = (integ[y2, x2] - integ[y2, x1 - 1] -\n",
        "                integ[y1 - 1, x2] + integ[y1 - 1, x1 - 1])\n",
        "        sqr_sums = (sqr_integral[y2, x2] - sqr_integral[y2, x1 - 1] -\n",
        "                sqr_integral[y1 - 1, x2] + sqr_integral[y1 - 1, x1 - 1])\n",
        "\n",
        "        # Computing local means2\n",
        "        means2 = sums / l_size\n",
        "\n",
        "        # Computing standard deviation range\n",
        "        std_ranges = np.sqrt(sqr_sums / l_size - np.square(means2))\n",
        "\n",
        "        # Computing normalized standard deviations and extra alpha parameters\n",
        "        n_stds = stds / std_ranges\n",
        "        n_sqr_std = np.square(n_stds)\n",
        "        alpha2 = k1 * n_sqr_std\n",
        "        alpha3 = k2 * n_sqr_std\n",
        "\n",
        "        threshold = ((1 - alpha1) * means + alpha2 * n_stds * (means - mins) + alpha3 * mins)\n",
        "\n",
        "        return threshold\n",
        "\n",
        "def save(path, img):\n",
        "        \"\"\"\n",
        "        Save the image in the path\n",
        "        \"\"\"\n",
        "        tmp = np.asarray(img*255.0, dtype=np.uint8)\n",
        "        Image.fromarray(tmp).save(path)\n",
        "\n",
        "def plot_images(*args,titles = [],view=1,figsize = (30,50)):\n",
        "        if(len(args)>1):\n",
        "                if(view==0):\n",
        "                        fig, ax = plt.subplots(len(args), 1, figsize=figsize)\n",
        "                else:\n",
        "                        fig, ax = plt.subplots(1,len(args),figsize=figsize) \n",
        "                for index,image in enumerate(args):\n",
        "                        ax[index].imshow(image,'gray')\n",
        "                        ax[index].axis('off')\n",
        "                        if(titles):\n",
        "                                ax[index].set_title(titles[index])\n",
        "        else:\n",
        "                plt.imshow(args[0],'gray')\n",
        "                \n",
        "        plt.show()"
      ],
      "execution_count": null,
      "outputs": []
    },
    {
      "cell_type": "code",
      "metadata": {
        "id": "ihSsXgNqEW5B",
        "cellView": "form"
      },
      "source": [
        "#@title Preprocessing Module\n",
        "import numpy as np\n",
        "from skimage import io, img_as_float, color\n",
        "from scipy import signal\n",
        "from skimage.filters import threshold_otsu, threshold_sauvola, gaussian\n",
        "from skimage.restoration import denoise_bilateral, denoise_tv_chambolle\n",
        "import cv2\n",
        "from skimage.morphology import remove_small_holes\n",
        "import bm3d\n",
        "from cv2_rolling_ball import subtract_background_rolling_ball\n",
        "from skimage.morphology import remove_small_holes\n",
        "from PIL import Image\n",
        "# from Utils import threshold_feng\n",
        "\n",
        "class Preprocessing:\n",
        "    \"\"\"\n",
        "    Image Preprocessing Module for enhancing quality of document images\n",
        "    -------------------------------------------------------------------\n",
        "    \n",
        "    1. feng_thresholding(image) -> if no argument is provided, takes original image. Returns a thresholded image\n",
        "    2. otsu_thresholding(image) -> if no argument is provided, takes original image. Returns a thresholded image\n",
        "    3. sauvola_thresholding(image = None, window_size=25) -> if no argument is provided, takes original image. Returns a thresholded image\n",
        "    4. division_normalization(kernel_size = (33,33)) -> Pass kernel_size if necessary\n",
        "    5. denoise_image_medfilt2d(kernel_size = 27) -> Pass kernel_size if necessary\n",
        "    6. sharpen_image(self,img = None, sigma = 2, scale = 2)\n",
        "    7. gaussian_filter(sigma = 1, size = (3,3)) -> returns cv2_gaussian, skimage_gaussian\n",
        "    8. median_filter(kernel_size = 3)\n",
        "    9. bilateral_filter() -> returns cv2_bilateral, skimage_bilateral\n",
        "    10. nlm_denoising(strength=3.0,template_window=7,search_window=21)\n",
        "    11. total_variance_denoise(weight=0.1, eps=0.0002, n_iter_max=200)\n",
        "    12. bm3d_denoise()\n",
        "    13. shade_correction() -> returns final_image,clahe_image\n",
        "    \"\"\"\n",
        "    def __init__(self,filename) -> None:\n",
        "        self.image = io.imread(filename,as_gray=True)\n",
        "        # self.image = color.rgb2gray(np.asarray(Image.open(filename))/255.0)\n",
        "        self.image_as_float = img_as_float(self.image)\n",
        "        self.image_cv2 = cv2.imread(filename, 0)\n",
        "        \n",
        "    \n",
        "    def feng_thresholding(self,img = None):\n",
        "        if(img is None):\n",
        "            img = self.image\n",
        "        return img > threshold_feng(img)\n",
        "\n",
        "    def otsu_thresholding(self,img = None):\n",
        "        if(img is None):\n",
        "            img = self.image\n",
        "        return img > threshold_otsu(img)\n",
        "\n",
        "    def sauvola_thresholding(self,img = None, window_size=25):\n",
        "        if(img is None):\n",
        "            img = self.image\n",
        "        return img > threshold_sauvola(img,window_size)\n",
        "\n",
        "    def division_normalization(self,kernel_size = (33,33)):\n",
        "        \"\"\"\n",
        "        1. used for uneven illumination\n",
        "        2. input should be a grayscale image\n",
        "        \"\"\"\n",
        "        # divide gray by morphology image\n",
        "        smooth = cv2.GaussianBlur(self.image, kernel_size, 0)  \n",
        "        division = cv2.divide(self.image, smooth, scale=255)\n",
        "        return division\n",
        "\n",
        "    def denoise_image_medfilt2d(self, kernel_size = 27):\n",
        "        \"\"\"\n",
        "        Input Must be Grayscale\n",
        "        \"\"\"\n",
        "        # estimate 'background' color by a median filter\n",
        "        bg = signal.medfilt2d(self.image, kernel_size)\n",
        "        # save('background.png', bg)\n",
        "        # compute 'foreground' mask as anything that is significantly darker than\n",
        "        # the background\n",
        "        mask = self.image < bg - 0.1\n",
        "        # save('foreground_mask.png', mask)\n",
        "        # return the input value for all pixels in the mask or pure white otherwise\n",
        "        return np.where(mask, self.image, 1.0)\n",
        "\n",
        "    \"\"\"\n",
        "    Unsharp mask enhances edges by subtracting an unsharp (smoothed) version of the image from the original.\n",
        "    Effectively making the filter a high pass filter.\n",
        "    \"\"\"\n",
        "    def sharpen_image(self,img = None, sigma = 2, scale = 2):\n",
        "        if(img is None):\n",
        "            img = self.image_as_float\n",
        "        gaussian_img = gaussian(img, sigma=sigma, mode='constant', cval=0.0)\n",
        "        img2 = (img - gaussian_img)*scale\n",
        "        enhanced_image = img + img2  # enhanced_image = original + amount * (original - blurred)\n",
        "        return enhanced_image\n",
        "\n",
        "    def gaussian_filter(self,sigma = 1, size = (3,3)):\n",
        "        img = self.image_as_float\n",
        "        gaussian_using_cv2 = cv2.GaussianBlur(img, size, 0, borderType=cv2.BORDER_CONSTANT)\n",
        "        gaussian_using_skimage = gaussian(img, sigma = sigma, mode='constant', cval=0.0)\n",
        "        return gaussian_using_cv2,gaussian_using_skimage\n",
        "\n",
        "    def median_filter(self,kernel_size = 3):\n",
        "        median_using_cv2 = cv2.medianBlur(self.image_cv2, kernel_size)\n",
        "        return median_using_cv2\n",
        "    \n",
        "    def bilateral_filter(self):\n",
        "        bilateral_using_cv2 = cv2.bilateralFilter(self.image_cv2, 5, 20, 100, borderType=cv2.BORDER_CONSTANT)\n",
        "        bilateral_using_skimage = denoise_bilateral(self.image, sigma_color=0.05, sigma_spatial=15, multichannel=False)\n",
        "        return bilateral_using_cv2,bilateral_using_skimage\n",
        "\n",
        "    def nlm_denoising(self,strength=3.0,template_window=7,search_window=21):\n",
        "        dst = cv2.fastNlMeansDenoising(self.image_cv2, strength, template_window, search_window)\n",
        "        return dst\n",
        "    \n",
        "    def total_variance_denoise(self,weight=0.1, eps=0.0002, n_iter_max=200):\n",
        "        denoise_img = denoise_tv_chambolle(self.image_as_float, weight=weight, eps=eps, n_iter_max=n_iter_max, multichannel=False)\n",
        "        return denoise_img\n",
        "\n",
        "    def bm3d_denoise(self):\n",
        "        \"\"\"\n",
        "        sigma_psd - noise standard deviation\n",
        "        stage_arg: Determines whether to perform hard-thresholding or Wiener filtering.\n",
        "        stage_arg = BM3DStages.HARD_THRESHOLDING or BM3DStages.ALL_STAGES (slow but powerful)\n",
        "        All stages performs both hard thresholding and Wiener filtering. \n",
        "        \"\"\"\n",
        "        BM3D_denoised_image = bm3d.bm3d(self.image_as_float, sigma_psd=0.2, stage_arg=bm3d.BM3DStages.HARD_THRESHOLDING)\n",
        "        return BM3D_denoised_image\n",
        "\n",
        "    def shade_correction(self):\n",
        "        radius=20\n",
        "        final_img, background = subtract_background_rolling_ball(self.image_cv2, radius, light_background=True, use_paraboloid=False, do_presmooth=True)\n",
        "        #optionally perform CLAHE to equalize histogram for better segmentation\n",
        "        #otherwise the image may appear washedout. \n",
        "        clahe = cv2.createCLAHE(clipLimit=3, tileGridSize=(8,8))\n",
        "        clahe_img = clahe.apply(final_img)\n",
        "        return final_img,clahe_img"
      ],
      "execution_count": null,
      "outputs": []
    },
    {
      "cell_type": "code",
      "metadata": {
        "colab": {
          "base_uri": "https://localhost:8080/"
        },
        "id": "xJ7xBDyuGCaS",
        "outputId": "5fc7cc3c-cbcc-44c4-e326-45ff3a0ca280"
      },
      "source": [
        "help(Preprocessing)"
      ],
      "execution_count": null,
      "outputs": [
        {
          "output_type": "stream",
          "text": [
            "Help on class Preprocessing in module __main__:\n",
            "\n",
            "class Preprocessing(builtins.object)\n",
            " |  Preprocessing(filename) -> None\n",
            " |  \n",
            " |  Image Preprocessing Module for enhancing quality of document images\n",
            " |  -------------------------------------------------------------------\n",
            " |  \n",
            " |  1. feng_thresholding(image) -> if no argument is provided, takes original image. Returns a thresholded image\n",
            " |  2. otsu_thresholding(image) -> if no argument is provided, takes original image. Returns a thresholded image\n",
            " |  3. sauvola_thresholding(image = None, window_size=25) -> if no argument is provided, takes original image. Returns a thresholded image\n",
            " |  4. division_normalization(kernel_size = (33,33)) -> Pass kernel_size if necessary\n",
            " |  5. denoise_image_medfilt2d(kernel_size = 27) -> Pass kernel_size if necessary\n",
            " |  6. sharpen_image(self,img = None, sigma = 2, scale = 2)\n",
            " |  7. gaussian_filter(sigma = 1, size = (3,3)) -> returns cv2_gaussian, skimage_gaussian\n",
            " |  8. median_filter(kernel_size = 3)\n",
            " |  9. bilateral_filter() -> returns cv2_bilateral, skimage_bilateral\n",
            " |  10. nlm_denoising(strength=3.0,template_window=7,search_window=21)\n",
            " |  11. total_variance_denoise(weight=0.1, eps=0.0002, n_iter_max=200)\n",
            " |  12. bm3d_denoise()\n",
            " |  13. shade_correction() -> returns final_image,clahe_image\n",
            " |  \n",
            " |  Methods defined here:\n",
            " |  \n",
            " |  __init__(self, filename) -> None\n",
            " |      Initialize self.  See help(type(self)) for accurate signature.\n",
            " |  \n",
            " |  bilateral_filter(self)\n",
            " |  \n",
            " |  bm3d_denoise(self)\n",
            " |      sigma_psd - noise standard deviation\n",
            " |      stage_arg: Determines whether to perform hard-thresholding or Wiener filtering.\n",
            " |      stage_arg = BM3DStages.HARD_THRESHOLDING or BM3DStages.ALL_STAGES (slow but powerful)\n",
            " |      All stages performs both hard thresholding and Wiener filtering.\n",
            " |  \n",
            " |  denoise_image_medfilt2d(self, kernel_size=27)\n",
            " |      Input Must be Grayscale\n",
            " |  \n",
            " |  division_normalization(self, kernel_size=(33, 33))\n",
            " |      1. used for uneven illumination\n",
            " |      2. input should be a grayscale image\n",
            " |  \n",
            " |  feng_thresholding(self, img=None)\n",
            " |  \n",
            " |  gaussian_filter(self, sigma=1, size=(3, 3))\n",
            " |  \n",
            " |  median_filter(self, kernel_size=3)\n",
            " |  \n",
            " |  nlm_denoising(self, strength=3.0, template_window=7, search_window=21)\n",
            " |  \n",
            " |  otsu_thresholding(self, img=None)\n",
            " |  \n",
            " |  sauvola_thresholding(self, img=None, window_size=25)\n",
            " |  \n",
            " |  shade_correction(self)\n",
            " |  \n",
            " |  sharpen_image(self, img=None, sigma=2, scale=2)\n",
            " |  \n",
            " |  total_variance_denoise(self, weight=0.1, eps=0.0002, n_iter_max=200)\n",
            " |  \n",
            " |  ----------------------------------------------------------------------\n",
            " |  Data descriptors defined here:\n",
            " |  \n",
            " |  __dict__\n",
            " |      dictionary for instance variables (if defined)\n",
            " |  \n",
            " |  __weakref__\n",
            " |      list of weak references to the object (if defined)\n",
            "\n"
          ],
          "name": "stdout"
        }
      ]
    },
    {
      "cell_type": "code",
      "metadata": {
        "id": "ByuCAefvswUx",
        "cellView": "form"
      },
      "source": [
        "#@title Load Image\n",
        "# filename = \"/content/drive/MyDrive/filter test images/creases2.jpg\" #@param {type:'string'}\n",
        "filename = \"/content/drive/MyDrive/filter test images/creases4.jpeg\" #@param {type:'string'}\n",
        "Image = Preprocessing(filename)\n",
        "img = io.imread(filename)\n",
        "#@markdown NB: Change thresholding used for final based on best output observed. Default is otsu\n"
      ],
      "execution_count": null,
      "outputs": []
    },
    {
      "cell_type": "code",
      "metadata": {
        "id": "YtfcWU7U4ZDY",
        "cellView": "form"
      },
      "source": [
        "#@title Thresholding without noise removal\n",
        "#@markdown Double click on output image to zoom in\n",
        "\n",
        "gray = io.imread(filename,as_gray=True)\n",
        "otsu = Image.otsu_thresholding(gray)\n",
        "feng = Image.feng_thresholding(gray)\n",
        "sauvola = Image.sauvola_thresholding(gray)\n",
        "plot_images(img,otsu,feng,sauvola,titles = [\"original\",\"otsu\",'feng',\"sauvola\"])"
      ],
      "execution_count": null,
      "outputs": []
    },
    {
      "cell_type": "code",
      "metadata": {
        "id": "Ncvj9XnWF3ei",
        "cellView": "form"
      },
      "source": [
        "#@title Median filter 2D\n",
        "#@markdown Double click on output image to zoom in\n",
        "\n",
        "denoised = Image.denoise_image_medfilt2d()\n",
        "otsu = Image.otsu_thresholding(denoised)\n",
        "feng = Image.feng_thresholding(denoised)\n",
        "sauvola = Image.sauvola_thresholding(denoised)\n",
        "final = remove_small_holes(otsu,15)\n",
        "plot_images(img,denoised,final,titles=['original','denoised','final'])\n",
        "plot_images(otsu,feng,sauvola,titles = [\"otsu\",'feng',\"sauvola\"])"
      ],
      "execution_count": null,
      "outputs": []
    },
    {
      "cell_type": "code",
      "metadata": {
        "id": "lCh1ttTflsC6",
        "cellView": "form"
      },
      "source": [
        "#@title Division Normalization\n",
        "#@markdown Double click on output image to zoom in\n",
        "\n",
        "divn = Image.division_normalization()\n",
        "otsu = Image.otsu_thresholding(divn)\n",
        "feng = Image.feng_thresholding(divn)\n",
        "sauvola = Image.sauvola_thresholding(divn)\n",
        "final = remove_small_holes(otsu,15)\n",
        "plot_images(img,divn,final,titles=['original','Division Normalization','final'])\n",
        "plot_images(otsu,feng,sauvola,titles = [\"otsu\",'feng',\"sauvola\"])"
      ],
      "execution_count": null,
      "outputs": []
    },
    {
      "cell_type": "code",
      "metadata": {
        "id": "PCTPzoxuuRGX",
        "cellView": "form"
      },
      "source": [
        "#@title Sharpen Image\n",
        "#@markdown Double click on output image to zoom in\n",
        "sharp = Image.sharpen_image()\n",
        "otsu = Image.otsu_thresholding(sharp)\n",
        "feng = Image.feng_thresholding(sharp)\n",
        "sauvola = Image.sauvola_thresholding(sharp)\n",
        "final = remove_small_holes(sauvola,15)\n",
        "plot_images(img,sharp,final,titles=['original','Sharpen','final'])\n",
        "plot_images(otsu,feng,sauvola,titles = [\"otsu\",'feng',\"sauvola\"])"
      ],
      "execution_count": null,
      "outputs": []
    },
    {
      "cell_type": "code",
      "metadata": {
        "id": "Pe-AkT9yxFKV",
        "cellView": "form"
      },
      "source": [
        "#@title Gaussian FIlter\n",
        "#@markdown Double click on output image to zoom in\n",
        "gauss1,gauss2 = Image.gaussian_filter()\n",
        "otsu1 = Image.otsu_thresholding(gauss1)\n",
        "otsu2 = Image.otsu_thresholding(gauss2)\n",
        "feng1 = Image.feng_thresholding(gauss1)\n",
        "feng2 = Image.feng_thresholding(gauss2)\n",
        "sauvola1 = Image.sauvola_thresholding(gauss1)\n",
        "sauvola2 = Image.sauvola_thresholding(gauss2)\n",
        "#final = remove_small_holes(otsu,15)\n",
        "plot_images(img,gauss1,gauss2,titles=['original','Gaussian CV','Gaussian Ski'])\n",
        "plot_images(otsu1,feng1,sauvola1,titles = [\"otsu 1\",'feng 1',\"sauvola 1\"])\n",
        "plot_images(otsu2,feng2,sauvola2,titles = [\"otsu 2\",'feng 2',\"sauvola 2\"])"
      ],
      "execution_count": null,
      "outputs": []
    },
    {
      "cell_type": "code",
      "metadata": {
        "id": "C43l1TXX11Rf",
        "cellView": "form"
      },
      "source": [
        "#@markdown Double click on output image to zoom in\n",
        "#@title Median filter\n",
        "medianf = Image.median_filter()\n",
        "otsu = Image.otsu_thresholding(medianf)\n",
        "feng = Image.feng_thresholding(medianf)\n",
        "sauvola = Image.sauvola_thresholding(medianf)\n",
        "final = remove_small_holes(sauvola,15)\n",
        "plot_images(img,medianf,final,titles=['original','Median Filter','final'])\n",
        "plot_images(otsu,feng,sauvola,titles = [\"otsu\",'feng',\"sauvola\"])"
      ],
      "execution_count": null,
      "outputs": []
    },
    {
      "cell_type": "code",
      "metadata": {
        "id": "nOUO4MvH1n1d",
        "cellView": "form"
      },
      "source": [
        "#@markdown Double click on output image to zoom in\n",
        "#@title Bilateral FIlter\n",
        "bilat1,bilat2 = Image.bilateral_filter()\n",
        "otsu1 = Image.otsu_thresholding(bilat1)\n",
        "otsu2 = Image.otsu_thresholding(bilat2)\n",
        "feng1 = Image.feng_thresholding(bilat1)\n",
        "feng2 = Image.feng_thresholding(bilat2)\n",
        "sauvola1 = Image.sauvola_thresholding(bilat1)\n",
        "sauvola2 = Image.sauvola_thresholding(bilat2)\n",
        "final = remove_small_holes(sauvola2,15)\n",
        "plot_images(img,bilat1,bilat2,final,titles=['original','Bilateral CV','Bilateral Ski', 'Final'])\n",
        "plot_images(otsu1,feng1,sauvola1,titles = [\"otsu 1\",'feng 1',\"sauvola 1\"])\n",
        "plot_images(otsu2,feng2,sauvola2,titles = [\"otsu 2\",'feng 2',\"sauvola 2\"])"
      ],
      "execution_count": null,
      "outputs": []
    },
    {
      "cell_type": "code",
      "metadata": {
        "id": "7GV1W2eF3ICF",
        "cellView": "form"
      },
      "source": [
        "#@title NLM Denoising\n",
        "#@markdown Double click on output image to zoom in\n",
        "nlm = Image.nlm_denoising()\n",
        "otsu = Image.otsu_thresholding(nlm)\n",
        "feng = Image.feng_thresholding(nlm)\n",
        "sauvola = Image.sauvola_thresholding(nlm)\n",
        "final = remove_small_holes(sauvola,15)\n",
        "plot_images(img,nlm,final,titles=['original','NLM','final'])\n",
        "plot_images(otsu,feng,sauvola,titles = [\"otsu\",'feng',\"sauvola\"])"
      ],
      "execution_count": null,
      "outputs": []
    },
    {
      "cell_type": "code",
      "metadata": {
        "id": "-JChPc6u4hLO",
        "cellView": "form"
      },
      "source": [
        "#@title Total Variance Denoise\n",
        "#@markdown Double click on output image to zoom in\n",
        "tvd = Image.total_variance_denoise()\n",
        "otsu = Image.otsu_thresholding(tvd)\n",
        "feng = Image.feng_thresholding(tvd)\n",
        "sauvola = Image.sauvola_thresholding(tvd)\n",
        "final = remove_small_holes(feng,15)\n",
        "plot_images(img,tvd,final,titles=['original','TVD','final'])\n",
        "plot_images(otsu,feng,sauvola,titles = [\"otsu\",'feng',\"sauvola\"])"
      ],
      "execution_count": null,
      "outputs": []
    },
    {
      "cell_type": "code",
      "metadata": {
        "id": "JblbmwP94rtT",
        "cellView": "form"
      },
      "source": [
        "#@title BM3D Denoise\n",
        "#@markdown Double click on output image to zoom in\n",
        "bm3d = Image.bm3d_denoise()\n",
        "otsu = Image.otsu_thresholding(bm3d)\n",
        "feng = Image.feng_thresholding(bm3d)\n",
        "sauvola = Image.sauvola_thresholding(bm3d)\n",
        "final = remove_small_holes(otsu,15)\n",
        "plot_images(img,bm3d,final,titles=['original','BM3D','final'])\n",
        "plot_images(otsu,feng,sauvola,titles = [\"otsu\",'feng',\"sauvola\"])"
      ],
      "execution_count": null,
      "outputs": []
    },
    {
      "cell_type": "code",
      "metadata": {
        "id": "YzeRoyspF8ir",
        "cellView": "form"
      },
      "source": [
        "#@title Shade Correction\n",
        "#@markdown Double click on output image to zoom in\n",
        "\n",
        "out1,out2 = Image.shade_correction()\n",
        "otsu1 = Image.otsu_thresholding(out1)\n",
        "otsu2 = Image.otsu_thresholding(out2)\n",
        "feng1 = Image.feng_thresholding(out1)\n",
        "feng2 = Image.feng_thresholding(out2)\n",
        "sauvola1 = Image.sauvola_thresholding(out1)\n",
        "sauvola2 = Image.sauvola_thresholding(out2)\n",
        "#final = remove_small_holes(otsu,15)\n",
        "plot_images(img,out1,out2,titles=['original','Shade1','Clahe'])\n",
        "plot_images(otsu1,feng1,sauvola1,titles = [\"otsu 1\",'feng 1',\"sauvola 1\"])\n",
        "plot_images(otsu2,feng2,sauvola2,titles = [\"otsu 2\",'feng 2',\"sauvola 2\"])"
      ],
      "execution_count": null,
      "outputs": []
    },
    {
      "cell_type": "code",
      "metadata": {
        "id": "KYhO0As_XcB-",
        "cellView": "form"
      },
      "source": [
        "#@title BM3D backup\n",
        "\n",
        "from skimage import io, img_as_float\n",
        "import bm3d\n",
        "import cv2\n",
        "\n",
        "noisy_img = img_as_float(io.imread(filename, as_gray=True))\n",
        "\n",
        "bm3d = bm3d.bm3d(noisy_img, sigma_psd=0.2, stage_arg=bm3d.BM3DStages.HARD_THRESHOLDING)\n",
        "\n",
        "\"\"\"\n",
        "bm3d library is not well documented yet, but looking into source code....\n",
        "sigma_psd - noise standard deviation\n",
        "stage_arg: Determines whether to perform hard-thresholding or Wiener filtering.\n",
        "stage_arg = BM3DStages.HARD_THRESHOLDING or BM3DStages.ALL_STAGES (slow but powerful)\n",
        "All stages performs both hard thresholding and Wiener filtering. \n",
        "\"\"\"\n",
        "\n",
        "otsu = Image.otsu_thresholding(bm3d)\n",
        "feng = Image.feng_thresholding(bm3d)\n",
        "final = remove_small_holes(otsu,15)\n",
        "plot_images(bm3d,otsu,feng,final,titles = [\"BM3D\",\"otsu\",'feng',\"final\"])\n"
      ],
      "execution_count": null,
      "outputs": []
    },
    {
      "cell_type": "code",
      "metadata": {
        "id": "rV9ECXfrQkjB",
        "cellView": "form"
      },
      "source": [
        "#@title test \n",
        "# import os\n",
        "# from pathlib import Path\n",
        "# dir = \"/content/drive/MyDrive/filter test images\"\n",
        "# for i in os.listdir(dir):\n",
        "#   print(i)\n",
        "\n",
        "# out = \"/content/drive/MyDrive/output/\"\n",
        "# image_dir = Path(dir)\n",
        "# folders = [directory for directory in image_dir.iterdir() if directory.is_dir()]\n",
        "# categories = [fo.name for fo in folders]\n",
        "# n = 1\n",
        "# for i, direc in enumerate(folders):\n",
        "#         for file in direc.iterdir():\n",
        "#           Im = Preprocessing(str(file))\n",
        "#           feng = Im.feng_thresholding() \n",
        "#           otsu = Im.otsu_thresholding() \n",
        "#           sauvola = Im.sauvola_thresholding() \n",
        "#           norm = Im.division_normalization() \n",
        "#           denoise = Im.denoise_image_medfilt2d() \n",
        "#           sharp = Im.sharpen_image()\n",
        "#           gausscv2,gausssk = Im.gaussian_filter() \n",
        "#           med = Im.median_filter()\n",
        "#           bilcv2,bilsk = Im.bilateral_filter() \n",
        "#           nlm = Im.nlm_denoising()\n",
        "#           var = Im.total_variance_denoise()\n",
        "#           bm3d = Im.bm3d_denoise()\n",
        "#           final,clahe = Im.shade_correction()\n",
        "#           norm_feng = Im.feng_thresholding(norm) \n",
        "#           norm_otsu = Im.otsu_thresholding(norm)\n",
        "#           norm_sauvola = Im.sauvola_thresholding(norm) \n",
        "#           denoise_feng = Im.feng_thresholding(denoise) \n",
        "#           denoise_otsu = Im.otsu_thresholding(denoise)\n",
        "#           denoise_sauvola = Im.sauvola_thresholding(denoise)\n",
        "#           sharp_feng = Im.feng_thresholding(sharp) \n",
        "#           sharp_otsu = Im.otsu_thresholding(sharp)\n",
        "#           sharp_sauvola = Im.sauvola_thresholding(sharp)\n",
        "#           gausscv2_feng = Im.feng_thresholding(gausscv2) \n",
        "#           gausscv2_otsu = Im.otsu_thresholding(gausscv2)\n",
        "#           gausscv2_sauvola = Im.sauvola_thresholding(gausscv2)\n",
        "#           gausssk_feng = Im.feng_thresholding(gausssk) \n",
        "#           gausssk_otsu = Im.otsu_thresholding(gausssk)\n",
        "#           gausssk_sauvola = Im.sauvola_thresholding(gausssk)\n",
        "#           med_feng = Im.feng_thresholding(med) \n",
        "#           med_otsu = Im.otsu_thresholding(med)\n",
        "#           med_sauvola = Im.sauvola_thresholding(med)\n",
        "#           bilcv2_feng = Im.feng_thresholding(bilcv2) \n",
        "#           bilcv2_otsu = Im.otsu_thresholding(bilcv2)\n",
        "#           bilcv2_sauvola = Im.sauvola_thresholding(bilcv2)\n",
        "#           bilsk_feng = Im.feng_thresholding(bilsk) \n",
        "#           bilsk_otsu = Im.otsu_thresholding(bilsk)\n",
        "#           bilsk_sauvola = Im.sauvola_thresholding(bilsk)\n",
        "#           nlm_feng = Im.feng_thresholding(nlm) \n",
        "#           nlm_otsu = Im.otsu_thresholding(nlm)\n",
        "#           nlm_sauvola = Im.sauvola_thresholding(nlm)\n",
        "#           var_feng = Im.feng_thresholding(var) \n",
        "#           var_otsu = Im.otsu_thresholding(var)\n",
        "#           var_sauvola = Im.sauvola_thresholding(var)\n",
        "#           bm3d_feng = Im.feng_thresholding(bm3d) \n",
        "#           bm3d_otsu = Im.otsu_thresholding(bm3d)\n",
        "#           bm3d_sauvola = Im.sauvola_thresholding(bm3d)\n",
        "#           final_feng = Im.feng_thresholding(final) \n",
        "#           final_otsu = Im.otsu_thresholding(final)\n",
        "#           final_sauvola = Im.sauvola_thresholding(final)\n",
        "#           clahe_feng = Im.feng_thresholding(clahe) \n",
        "#           clahe_otsu = Im.otsu_thresholding(clahe)\n",
        "#           clahe_sauvola = Im.sauvola_thresholding(clahe)\n",
        "#           save(str(n)+\"/otsu.jpg\",otsu)\n",
        "#           save(str(n)+\"/feng.jpg\",feng)\n",
        "#           save(str(n)+\"/sauvola.jpg\",sauvola)\n",
        "#           save(str(n)+\"/1norm.jpg\",norm)\n",
        "#           save(str(n)+\"/1norm_otsu.jpg\",norm_otsu)\n",
        "#           save(str(n)+\"/1norm_feng.jpg\",norm_feng)\n",
        "#           save(str(n)+\"/1norm_sauvola.jpg\",norm_sauvola)\n",
        "#           save(str(n)+\"/2denoise.jpg\",denoise)\n",
        "#           save(str(n)+\"/2denoise_otsu.jpg\",denoise_otsu)\n",
        "#           save(str(n)+\"/2denoise_feng.jpg\",denoise_feng)\n",
        "#           save(str(n)+\"/2denoise_sauvola.jpg\",denoise_sauvola)\n",
        "#           save(str(n)+\"/3sharp.jpg\",sharp)\n",
        "#           save(str(n)+\"/3sharp_otsu.jpg\",sharp_otsu)\n",
        "#           save(str(n)+\"/3sharp_feng.jpg\",sharp_feng)\n",
        "#           save(str(n)+\"/3sharp_sauvola.jpg\",sharp_sauvola)\n",
        "#           save(str(n)+\"/4final.jpg\",final)\n",
        "#           save(str(n)+\"/4final_otsu.jpg\",final_otsu)\n",
        "#           save(str(n)+\"/4final_feng.jpg\",final_feng)\n",
        "#           save(str(n)+\"/4final_sauvola.jpg\",final_sauvola)\n",
        "#           save(str(n)+\"/5clahe.jpg\",clahe)\n",
        "#           save(str(n)+\"/5clahe_otsu.jpg\",clahe_otsu)\n",
        "#           save(str(n)+\"/5clahe_feng.jpg\",clahe_feng)\n",
        "#           save(str(n)+\"/5clahe_sauvola.jpg\",clahe_sauvola)\n",
        "#           save(str(n)+\"/6bm3d.jpg\",bm3d)\n",
        "#           save(str(n)+\"/6bm3d_otsu.jpg\",bm3d_otsu)\n",
        "#           save(str(n)+\"/6bm3d_feng.jpg\",bm3d_feng)\n",
        "#           save(str(n)+\"/6bm3d_sauvola.jpg\",bm3d_sauvola)\n",
        "#           save(str(n)+\"/7var.jpg\",var)\n",
        "#           save(str(n)+\"/7var_otsu.jpg\",var_otsu)\n",
        "#           save(str(n)+\"/7var_feng.jpg\",var_feng)\n",
        "#           save(str(n)+\"/7var_sauvola.jpg\",var_sauvola)\n",
        "#           save(str(n)+\"/8nlm.jpg\",nlm)\n",
        "#           save(str(n)+\"/8nlm_otsu.jpg\",nlm_otsu)\n",
        "#           save(str(n)+\"/8nlm_feng.jpg\",nlm_feng)\n",
        "#           save(str(n)+\"/8nlm_sauvola.jpg\",nlm_sauvola)\n",
        "#           save(str(n)+\"/9bilcv2.jpg\",bilcv2)\n",
        "#           save(str(n)+\"/9bilcv2_otsu.jpg\",bilcv2_otsu)\n",
        "#           save(str(n)+\"/9bilcv2_feng.jpg\",bilcv2_feng)\n",
        "#           save(str(n)+\"/9bilcv2_sauvola.jpg\",bilcv2_sauvola)\n",
        "#           save(str(n)+\"/10bilsk.jpg\",bilsk)\n",
        "#           save(str(n)+\"/10bilsk_otsu.jpg\",bilsk_otsu)\n",
        "#           save(str(n)+\"/10bilsk_feng.jpg\",bilsk_feng)\n",
        "#           save(str(n)+\"/10bilsk_sauvola.jpg\",bilsk_sauvola)\n",
        "#           save(str(n)+\"/11med.jpg\",med)\n",
        "#           save(str(n)+\"/11med_otsu.jpg\",med_otsu)\n",
        "#           save(str(n)+\"/11med_feng.jpg\",med_feng)\n",
        "#           save(str(n)+\"/11med_sauvola.jpg\",med_sauvola)\n",
        "#           save(str(n)+\"/12gausscv2.jpg\",gausscv2)\n",
        "#           save(str(n)+\"/12gausscv2_otsu.jpg\",gausscv2_otsu)\n",
        "#           save(str(n)+\"/12gausscv2_feng.jpg\",gausscv2_feng)\n",
        "#           save(str(n)+\"/12gausscv2_sauvola.jpg\",gausscv2_sauvola)\n",
        "#           save(str(n)+\"/13gausssk.jpg\",gausssk)\n",
        "#           save(str(n)+\"/13gausssk_otsu.jpg\",gausssk_otsu)\n",
        "#           save(str(n)+\"/13gausssk_feng.jpg\",gausssk_feng)\n",
        "#           save(str(n)+\"/13gausssk_sauvola.jpg\",gausssk_sauvola)\n",
        "#           n = n+1"
      ],
      "execution_count": null,
      "outputs": []
    },
    {
      "cell_type": "code",
      "metadata": {
        "id": "pqUMY9D6YabC"
      },
      "source": [
        "# x = [\"final\",\"clahe\",\"bm3d\",\"var\",\"nlm\",\"bilcv2\",\"bilsk\",\"med\",\"gausscv2\",\"gausssk\"]\n",
        "# for i,k in enumerate(x):\n",
        "#   print(f\"save(str(n)+\\\"/{i+4}{k}.jpg\\\",{k})\")\n",
        "#   print(f\"save(str(n)+\\\"/{i+4}{k}_otsu.jpg\\\",{k}_otsu)\")\n",
        "#   print(f\"save(str(n)+\\\"/{i+4}{k}_feng.jpg\\\",{k}_feng)\")\n",
        "#   print(f\"save(str(n)+\\\"/{i+4}{k}_sauvola.jpg\\\",{k}_sauvola)\")"
      ],
      "execution_count": null,
      "outputs": []
    },
    {
      "cell_type": "code",
      "metadata": {
        "id": "FkfmcQo6Nj3a",
        "colab": {
          "base_uri": "https://localhost:8080/"
        },
        "outputId": "53fc6793-8b52-4721-c629-58fbc099db56"
      },
      "source": [
        "from google.colab import drive\n",
        "drive.mount('/content/drive')"
      ],
      "execution_count": null,
      "outputs": [
        {
          "output_type": "stream",
          "text": [
            "Mounted at /content/drive\n"
          ],
          "name": "stdout"
        }
      ]
    },
    {
      "cell_type": "code",
      "metadata": {
        "id": "R_Z7wbARfllq"
      },
      "source": [
        "import os\n",
        "dir = \"/content/drive/MyDrive/filter test images/blur/\" #@param {type:'string'}"
      ],
      "execution_count": null,
      "outputs": []
    },
    {
      "cell_type": "code",
      "metadata": {
        "id": "a3xUJy5n-nEm",
        "cellView": "form"
      },
      "source": [
        "#@title Pure Otsu\n",
        "filt = \"Pure Otsu\"\n",
        "for i in sorted(os.listdir(dir)):\n",
        "  print(i)\n",
        "  Im = Preprocessing(dir+str(i))\n",
        "  out = Im.otsu_thresholding()\n",
        "  orig = io.imread(dir+str(i))\n",
        "  plot_images(orig,out,titles=[str(i),filt])"
      ],
      "execution_count": null,
      "outputs": []
    },
    {
      "cell_type": "code",
      "metadata": {
        "id": "zVda2STW-rw9",
        "cellView": "form"
      },
      "source": [
        "#@title Pure Feng\n",
        "filt = \"Pure Feng\"\n",
        "for i in sorted(os.listdir(dir)):\n",
        "  print(i)\n",
        "  Im = Preprocessing(dir+str(i))\n",
        "  out = Im.feng_thresholding()\n",
        "  orig = io.imread(dir+str(i))\n",
        "  plot_images(orig,out,titles=[str(i),filt])"
      ],
      "execution_count": null,
      "outputs": []
    },
    {
      "cell_type": "code",
      "metadata": {
        "id": "pO4guW16DfHJ",
        "cellView": "form"
      },
      "source": [
        "#@title Pure Sauvola\n",
        "filt = \"Pure Sauvola\"\n",
        "for i in sorted(os.listdir(dir)):\n",
        "  print(i)\n",
        "  Im = Preprocessing(dir+str(i))\n",
        "  out = Im.sauvola_thresholding()\n",
        "  orig = io.imread(dir+str(i))\n",
        "  plot_images(orig,out,titles=[str(i),filt])"
      ],
      "execution_count": null,
      "outputs": []
    },
    {
      "cell_type": "code",
      "metadata": {
        "id": "b2FSPYe4Vv1n",
        "cellView": "form"
      },
      "source": [
        "#@title Median Filter2D + Otsu\n",
        "filt = \"Median Filter2D + Otsu\"\n",
        "for i in sorted(os.listdir(dir)):\n",
        "  print(i)\n",
        "  Im = Preprocessing(dir+str(i))\n",
        "  denoised = Im.denoise_image_medfilt2d()\n",
        "  out = Im.otsu_thresholding(denoised)\n",
        "  orig = io.imread(dir+str(i))\n",
        "  plot_images(orig,out,titles=[str(i),filt])"
      ],
      "execution_count": null,
      "outputs": []
    },
    {
      "cell_type": "code",
      "metadata": {
        "id": "D-Xn2nkZaI-R",
        "cellView": "form"
      },
      "source": [
        "#@title Median Filter2D + Feng\n",
        "filt = \"Median Filter2D + Feng\"\n",
        "for i in sorted(os.listdir(dir)):\n",
        "  print(i)\n",
        "  Im = Preprocessing(dir+str(i))\n",
        "  denoised = Im.denoise_image_medfilt2d()\n",
        "  out = Im.feng_thresholding(denoised)\n",
        "  orig = io.imread(dir+str(i))\n",
        "  plot_images(orig,out,titles=[str(i),filt])"
      ],
      "execution_count": null,
      "outputs": []
    },
    {
      "cell_type": "code",
      "metadata": {
        "id": "2rs5ey0XaKDD",
        "cellView": "form"
      },
      "source": [
        "#@title Median Filter2D + Sauvola\n",
        "filt = \"Median Filter2D + Sauvola\"\n",
        "for i in sorted(os.listdir(dir)):\n",
        "  print(i)\n",
        "  Im = Preprocessing(dir+str(i))\n",
        "  denoised = Im.denoise_image_medfilt2d()\n",
        "  out = Im.sauvola_thresholding(denoised)\n",
        "  orig = io.imread(dir+str(i))\n",
        "  plot_images(orig,out,titles=[str(i),filt])"
      ],
      "execution_count": null,
      "outputs": []
    },
    {
      "cell_type": "code",
      "metadata": {
        "id": "C2WHdkMaaavq",
        "cellView": "form"
      },
      "source": [
        "#@title Division Normalisation + Otsu\n",
        "filt = \"Division Normalisation + Otsu\"\n",
        "for i in sorted(os.listdir(dir)):\n",
        "  print(i)\n",
        "  Im = Preprocessing(dir+str(i))\n",
        "  denoised = Im.division_normalization()\n",
        "  out = Im.otsu_thresholding(denoised)\n",
        "  orig = io.imread(dir+str(i))\n",
        "  plot_images(orig,out,titles=[str(i),filt])"
      ],
      "execution_count": null,
      "outputs": []
    },
    {
      "cell_type": "code",
      "metadata": {
        "id": "wdUup-iDcPxm",
        "cellView": "form"
      },
      "source": [
        "#@title Division Normalisation + Feng\n",
        "filt = \"Division Normalisation + Feng\"\n",
        "for i in sorted(os.listdir(dir)):\n",
        "  print(i)\n",
        "  Im = Preprocessing(dir+str(i))\n",
        "  denoised = Im.division_normalization()\n",
        "  out = Im.feng_thresholding(denoised)\n",
        "  orig = io.imread(dir+str(i))\n",
        "  plot_images(orig,out,titles=[str(i),filt])"
      ],
      "execution_count": null,
      "outputs": []
    },
    {
      "cell_type": "code",
      "metadata": {
        "id": "u-PChoCwcSb3",
        "cellView": "form"
      },
      "source": [
        "#@title Division Normalisation + Sauvola\n",
        "filt = \"Division Normalisation + Sauvola\"\n",
        "for i in sorted(os.listdir(dir)):\n",
        "  print(i)\n",
        "  Im = Preprocessing(dir+str(i))\n",
        "  denoised = Im.division_normalization()\n",
        "  out = Im.sauvola_thresholding(denoised)\n",
        "  orig = io.imread(dir+str(i))\n",
        "  plot_images(orig,out,titles=[str(i),filt])"
      ],
      "execution_count": null,
      "outputs": []
    },
    {
      "cell_type": "code",
      "metadata": {
        "id": "KNV5yKexdJOQ",
        "cellView": "form"
      },
      "source": [
        "#@title Sharpen + Otsu\n",
        "filt = \"Sharpen + Otsu\"\n",
        "for i in sorted(os.listdir(dir)):\n",
        "  print(i)\n",
        "  Im = Preprocessing(dir+str(i))\n",
        "  denoised = Im.sharpen_image()\n",
        "  out = Im.otsu_thresholding(denoised)\n",
        "  orig = io.imread(dir+str(i))\n",
        "  plot_images(orig,out,titles=[str(i),filt])"
      ],
      "execution_count": null,
      "outputs": []
    },
    {
      "cell_type": "code",
      "metadata": {
        "id": "HytTNioVdadu",
        "cellView": "form"
      },
      "source": [
        "#@title Sharpen + Feng\n",
        "filt = \"Sharpen + Feng\"\n",
        "for i in sorted(os.listdir(dir)):\n",
        "  print(i)\n",
        "  Im = Preprocessing(dir+str(i))\n",
        "  denoised = Im.sharpen_image()\n",
        "  out = Im.feng_thresholding(denoised)\n",
        "  orig = io.imread(dir+str(i))\n",
        "  plot_images(orig,out,titles=[str(i),filt])"
      ],
      "execution_count": null,
      "outputs": []
    },
    {
      "cell_type": "code",
      "metadata": {
        "id": "7G6ICXKmdnWr",
        "cellView": "form"
      },
      "source": [
        "#@title Sharpen + Sauvola\n",
        "filt = \"Sharpen + Sauvola\"\n",
        "for i in sorted(os.listdir(dir)):\n",
        "  print(i)\n",
        "  Im = Preprocessing(dir+str(i))\n",
        "  denoised = Im.sharpen_image()\n",
        "  out = Im.sauvola_thresholding(denoised)\n",
        "  orig = io.imread(dir+str(i))\n",
        "  plot_images(orig,out,titles=[str(i),filt])"
      ],
      "execution_count": null,
      "outputs": []
    },
    {
      "cell_type": "code",
      "metadata": {
        "id": "Z2xBOi5XfSoK",
        "cellView": "form"
      },
      "source": [
        "#@title Gaussian + Otsu\n",
        "filt = \"Gaussian + Otsu\"\n",
        "for i in sorted(os.listdir(dir)):\n",
        "  print(i)\n",
        "  Im = Preprocessing(dir+str(i))\n",
        "  op1,op2 = Im.gaussian_filter()\n",
        "  out = Im.otsu_thresholding(op1)\n",
        "  orig = io.imread(dir+str(i))\n",
        "  plot_images(orig,out,titles=[str(i),filt])"
      ],
      "execution_count": null,
      "outputs": []
    },
    {
      "cell_type": "code",
      "metadata": {
        "id": "gGIIQaaHgZJ6",
        "cellView": "form"
      },
      "source": [
        "#@title Gaussian + Feng\n",
        "filt = \"Gaussian + Feng\"\n",
        "for i in sorted(os.listdir(dir)):\n",
        "  print(i)\n",
        "  Im = Preprocessing(dir+str(i))\n",
        "  op1,op2 = Im.gaussian_filter()\n",
        "  out = Im.feng_thresholding(op1)\n",
        "  orig = io.imread(dir+str(i))\n",
        "  plot_images(orig,out,titles=[str(i),filt])"
      ],
      "execution_count": null,
      "outputs": []
    },
    {
      "cell_type": "code",
      "metadata": {
        "id": "OIW7XfeTgjF9",
        "cellView": "form"
      },
      "source": [
        "#@title Gaussian + Sauvola\n",
        "filt = \"Gaussian + Sauvola\"\n",
        "for i in sorted(os.listdir(dir)):\n",
        "  print(i)\n",
        "  Im = Preprocessing(dir+str(i))\n",
        "  op1,op2 = Im.gaussian_filter()\n",
        "  out = Im.sauvola_thresholding(op1)\n",
        "  orig = io.imread(dir+str(i))\n",
        "  plot_images(orig,out,titles=[str(i),filt])"
      ],
      "execution_count": null,
      "outputs": []
    },
    {
      "cell_type": "code",
      "metadata": {
        "id": "kYTCQO6mg283",
        "cellView": "form"
      },
      "source": [
        "#@title Median Filter + Otsu\n",
        "filt = \"Median Filter + Otsu\"\n",
        "for i in sorted(os.listdir(dir)):\n",
        "  print(i)\n",
        "  Im = Preprocessing(dir+str(i))\n",
        "  denoised = Im.median_filter()\n",
        "  out = Im.otsu_thresholding(denoised)\n",
        "  orig = io.imread(dir+str(i))\n",
        "  plot_images(orig,out,titles=[str(i),filt])"
      ],
      "execution_count": null,
      "outputs": []
    },
    {
      "cell_type": "code",
      "metadata": {
        "id": "dUhZCBuLhIUm",
        "cellView": "form"
      },
      "source": [
        "#@title Median Filter + Feng\n",
        "filt = \"Median Filter + Feng\"\n",
        "for i in sorted(os.listdir(dir)):\n",
        "  print(i)\n",
        "  Im = Preprocessing(dir+str(i))\n",
        "  denoised = Im.median_filter()\n",
        "  out = Im.feng_thresholding(denoised)\n",
        "  orig = io.imread(dir+str(i))\n",
        "  plot_images(orig,out,titles=[str(i),filt])"
      ],
      "execution_count": null,
      "outputs": []
    },
    {
      "cell_type": "code",
      "metadata": {
        "id": "Y1ZNOesEhM32",
        "cellView": "form"
      },
      "source": [
        "#@title Median Filter + Sauvola\n",
        "filt = \"Median Filter + Sauvola\"\n",
        "for i in sorted(os.listdir(dir)):\n",
        "  print(i)\n",
        "  Im = Preprocessing(dir+str(i))\n",
        "  denoised = Im.median_filter()\n",
        "  out = Im.sauvola_thresholding(denoised)\n",
        "  orig = io.imread(dir+str(i))\n",
        "  plot_images(orig,out,titles=[str(i),filt])"
      ],
      "execution_count": null,
      "outputs": []
    },
    {
      "cell_type": "code",
      "metadata": {
        "id": "iHYcNO4zh2kr",
        "cellView": "form"
      },
      "source": [
        "#@title Bilateral Filter\n",
        "#@markdown NB: For each image Otsu Feng and Sauvola are displayed unlike previous cells  \n",
        "for i in sorted(os.listdir(dir)):\n",
        "  print(i)\n",
        "  orig = io.imread(dir+str(i))\n",
        "  Im = Preprocessing(dir+str(i))\n",
        "  op1,op2 = Im.bilateral_filter()\n",
        "  filt = \"+ Otsu\"\n",
        "  out1 = Im.otsu_thresholding(op1)\n",
        "  out2 = Im.otsu_thresholding(op2)\n",
        "  plot_images(orig,out1,out2,titles=[str(i),\"Bilat1\"+filt,\"Bilat2\"+filt])\n",
        "  filt = \"+ Feng\"\n",
        "  out1 = Im.feng_thresholding(op1)\n",
        "  out2 = Im.feng_thresholding(op2)\n",
        "  plot_images(orig,out1,out2,titles=[str(i),\"Bilat1\"+filt,\"Bilat2\"+filt])\n",
        "  filt = \"+ Sauvola\"\n",
        "  out1 = Im.sauvola_thresholding(op1)\n",
        "  out2 = Im.sauvola_thresholding(op2)\n",
        "  plot_images(orig,out1,out2,titles=[str(i),\"Bilat1\"+filt,\"Bilat2\"+filt])"
      ],
      "execution_count": null,
      "outputs": []
    },
    {
      "cell_type": "code",
      "metadata": {
        "id": "mYwTMe-Tm6fT",
        "cellView": "form"
      },
      "source": [
        "#@title NLM + Otsu\n",
        "filt = \"NLM + Otsu\"\n",
        "for i in sorted(os.listdir(dir)):\n",
        "  print(i)\n",
        "  Im = Preprocessing(dir+str(i))\n",
        "  denoised = Im.nlm_denoising()\n",
        "  out = Im.otsu_thresholding(denoised)\n",
        "  orig = io.imread(dir+str(i))\n",
        "  plot_images(orig,out,titles=[str(i),filt])"
      ],
      "execution_count": null,
      "outputs": []
    },
    {
      "cell_type": "code",
      "metadata": {
        "id": "WQjj8ZGDnESL",
        "cellView": "form"
      },
      "source": [
        "#@title NLM + Feng\n",
        "filt = \"NLM + Feng\"\n",
        "for i in sorted(os.listdir(dir)):\n",
        "  print(i)\n",
        "  Im = Preprocessing(dir+str(i))\n",
        "  denoised = Im.nlm_denoising()\n",
        "  out = Im.feng_thresholding(denoised)\n",
        "  orig = io.imread(dir+str(i))\n",
        "  plot_images(orig,out,titles=[str(i),filt])"
      ],
      "execution_count": null,
      "outputs": []
    },
    {
      "cell_type": "code",
      "metadata": {
        "id": "es495v5TnIh_",
        "cellView": "form"
      },
      "source": [
        "#@title NLM + Sauvola\n",
        "filt = \"NLM + Sauvola\"\n",
        "for i in sorted(os.listdir(dir)):\n",
        "  print(i)\n",
        "  Im = Preprocessing(dir+str(i))\n",
        "  denoised = Im.nlm_denoising()\n",
        "  out = Im.sauvola_thresholding(denoised)\n",
        "  orig = io.imread(dir+str(i))\n",
        "  plot_images(orig,out,titles=[str(i),filt])"
      ],
      "execution_count": null,
      "outputs": []
    },
    {
      "cell_type": "code",
      "metadata": {
        "id": "uUXwCnCCnbmp",
        "cellView": "form"
      },
      "source": [
        "#@title TVD + Otsu\n",
        "filt = \"TVD + Otsu\"\n",
        "for i in sorted(os.listdir(dir)):\n",
        "  print(i)\n",
        "  Im = Preprocessing(dir+str(i))\n",
        "  denoised = Im.total_variance_denoise()\n",
        "  out = Im.otsu_thresholding(denoised)\n",
        "  orig = io.imread(dir+str(i))\n",
        "  plot_images(orig,out,titles=[str(i),filt])"
      ],
      "execution_count": null,
      "outputs": []
    },
    {
      "cell_type": "code",
      "metadata": {
        "id": "SBFtUdUDntyl",
        "cellView": "form"
      },
      "source": [
        "#@title TVD + Feng\n",
        "filt = \"TVD + FEng\"\n",
        "for i in sorted(os.listdir(dir)):\n",
        "  print(i)\n",
        "  Im = Preprocessing(dir+str(i))\n",
        "  denoised = Im.total_variance_denoise()\n",
        "  out = Im.feng_thresholding(denoised)\n",
        "  orig = io.imread(dir+str(i))\n",
        "  plot_images(orig,out,titles=[str(i),filt])"
      ],
      "execution_count": null,
      "outputs": []
    },
    {
      "cell_type": "code",
      "metadata": {
        "id": "ttUHhKzrnuCS",
        "cellView": "form"
      },
      "source": [
        "#@title TVD + Sauvola\n",
        "filt = \"TVD + Sauvola\"\n",
        "for i in sorted(os.listdir(dir)):\n",
        "  print(i)\n",
        "  Im = Preprocessing(dir+str(i))\n",
        "  denoised = Im.total_variance_denoise()\n",
        "  out = Im.sauvola_thresholding(denoised)\n",
        "  orig = io.imread(dir+str(i))\n",
        "  plot_images(orig,out,titles=[str(i),filt])"
      ],
      "execution_count": null,
      "outputs": []
    },
    {
      "cell_type": "code",
      "metadata": {
        "id": "AY-fouv50dpQ",
        "cellView": "form"
      },
      "source": [
        "#@title BM3D + Otsu\n",
        "filt = \"BM3D + Otsu\"\n",
        "for i in sorted(os.listdir(dir)):\n",
        "  print(i)\n",
        "  Im = Preprocessing(dir+str(i))\n",
        "  denoised = Im.bm3d_denoise()\n",
        "  out = Im.otsu_thresholding(denoised)\n",
        "  orig = io.imread(dir+str(i))\n",
        "  plot_images(orig,out,titles=[str(i),filt])"
      ],
      "execution_count": null,
      "outputs": []
    },
    {
      "cell_type": "code",
      "metadata": {
        "id": "3JHaCUIx1Udq",
        "cellView": "form"
      },
      "source": [
        "#@title BM3D + Feng\n",
        "filt = \"BM3D + Feng\"\n",
        "for i in sorted(os.listdir(dir)):\n",
        "  print(i)\n",
        "  Im = Preprocessing(dir+str(i))\n",
        "  denoised = Im.bm3d_denoise()\n",
        "  out = Im.feng_thresholding(denoised)\n",
        "  orig = io.imread(dir+str(i))\n",
        "  plot_images(orig,out,titles=[str(i),filt])"
      ],
      "execution_count": null,
      "outputs": []
    },
    {
      "cell_type": "code",
      "metadata": {
        "id": "EcowxGvg1gUM",
        "cellView": "form"
      },
      "source": [
        "#@title BM3D + Sauvola\n",
        "filt = \"BM3D + Sauvola\"\n",
        "for i in sorted(os.listdir(dir)):\n",
        "  print(i)\n",
        "  Im = Preprocessing(dir+str(i))\n",
        "  denoised = Im.bm3d_denoise()\n",
        "  out = Im.sauvola_thresholding(denoised)\n",
        "  orig = io.imread(dir+str(i))\n",
        "  plot_images(orig,out,titles=[str(i),filt])"
      ],
      "execution_count": null,
      "outputs": []
    },
    {
      "cell_type": "code",
      "metadata": {
        "id": "Hq91ZA40uv7d",
        "cellView": "form"
      },
      "source": [
        "#@title Shade Correction\n",
        "#@markdown NB: For each image Otsu Feng and Sauvola are displayed unlike previous cells  \n",
        "for i in sorted(os.listdir(dir)):\n",
        "  print(i)\n",
        "  orig = io.imread(dir+str(i))\n",
        "  Im = Preprocessing(dir+str(i))\n",
        "  op1,op2 = Im.shade_correction()\n",
        "  filt = \"+ Otsu\"\n",
        "  out1 = Im.otsu_thresholding(op1)\n",
        "  out2 = Im.otsu_thresholding(op2)\n",
        "  plot_images(orig,out1,out2,titles=[str(i),\"Shade1\"+filt,\"Clahe\"+filt])\n",
        "  filt = \"+ Feng\"\n",
        "  out1 = Im.feng_thresholding(op1)\n",
        "  out2 = Im.feng_thresholding(op2)\n",
        "  plot_images(orig,out1,out2,titles=[str(i),\"Shade1\"+filt,\"Clahe\"+filt])\n",
        "  filt = \"+ Sauvola\"\n",
        "  out1 = Im.sauvola_thresholding(op1)\n",
        "  out2 = Im.sauvola_thresholding(op2)\n",
        "  plot_images(orig,out1,out2,titles=[str(i),\"Shade1\"+filt,\"Clahe\"+filt])"
      ],
      "execution_count": null,
      "outputs": []
    }
  ]
}